{
 "cells": [
  {
   "cell_type": "markdown",
   "id": "5ab713f5",
   "metadata": {},
   "source": [
    "出現順番のときはハッシュを使えば良いというだけの問題。このパータンはよく見かけるのでスニペット化してもいい。"
   ]
  },
  {
   "cell_type": "code",
   "execution_count": 7,
   "id": "002ee57d",
   "metadata": {},
   "outputs": [],
   "source": [
    "(define (count lst)\n",
    "  (let ([count-hash (make-hash)])\n",
    "    (for ([i lst])\n",
    "         (with-handlers ([exn:fail?\n",
    "                         (lambda (e) (hash-set! count-hash i (list)))])\n",
    "         (hash-set! count-hash i (cons i (hash-ref count-hash i)))))\n",
    "  (hash->list count-hash)))\n",
    "\n",
    "(require rackunit)\n",
    "(check-equal? (count (list 1 2 2 3)) (list (list 1) (list 2 2) (list 3)))\n",
    "\n",
    "(define (sort-ferquency lst)\n",
    "  (let ([lst (count lst)])\n",
    "    (apply append \n",
    "           (sort lst (lambda (x y)\n",
    "                       (cond [(= (length x) (length y)) (> (car x) (car y))]\n",
    "                             [else (< (length x) (length y))]))))))"
   ]
  },
  {
   "cell_type": "code",
   "execution_count": null,
   "id": "e8065101",
   "metadata": {},
   "outputs": [],
   "source": []
  }
 ],
 "metadata": {
  "kernelspec": {
   "display_name": "Racket",
   "language": "racket",
   "name": "racket"
  },
  "language_info": {
   "codemirror_mode": "scheme",
   "file_extension": ".rkt",
   "mimetype": "text/x-racket",
   "name": "Racket",
   "pygments_lexer": "racket",
   "version": "8.0"
  }
 },
 "nbformat": 4,
 "nbformat_minor": 5
}
