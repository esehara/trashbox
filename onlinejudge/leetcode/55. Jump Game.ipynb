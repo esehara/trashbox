{
 "cells": [
  {
   "cell_type": "markdown",
   "id": "6d6ea5d5",
   "metadata": {},
   "source": [
    "典型的な「真偽値DP」っぽいものだけど、割とややこしい。配列にValueをセットするとか後ろ向きに……というのを考えてはみるが、どちらにしてもオーダー数が爆発する可能性があって現実的ではない。\n",
    "\n",
    "だいたいそういう風に「オーダー数が爆発する」といったとき、余計な計算をしていることがある。\n",
    "\n",
    "今回の場合は単純に「行けるかどうか」がわかればいい。そしてそのマスが行けるかどうかについて考えたとき、単純に「最大飛べる範疇」がわかればいいということになる。最大飛べる範疇は、その配列の位置と数字を足したもの。\n",
    "\n",
    "実例を使ったほうがわかりやすいだろう。\n",
    "\n",
    "`nums = [2,3,1,1,4]`\n",
    "\n",
    "`nums[0]`のときは `0 + 2`で　`2`まで飛べることがわかる。`num[1]`のときは`1 + 3`で`4`まで飛べる。`0-indexed`なので`len(nums) - 1`の数に引っかかった時点で`true`を返してやればよい。これでおしまい。ちなみに最後の数値はバグを生む要因なので予め削っておく。\n",
    "\n",
    "ちなみに`i`がmax-rengeを超えた時点でも`break`する。なぜならそこには到達できないからだ。"
   ]
  },
  {
   "cell_type": "code",
   "execution_count": 14,
   "id": "7ecc1352",
   "metadata": {},
   "outputs": [],
   "source": [
    "(define (we-can-jump lst)\n",
    "  (let ([len (sub1 (length lst))])\n",
    "    (<= len (for/fold ([max-range 0])\n",
    "              (#:break (= len max-range)\n",
    "               [i (in-range 0 len)]\n",
    "               [j (reverse (cdr (reverse lst)))]\n",
    "               #:break (< max-range i))\n",
    "     (max max-range (+ i j))))))\n",
    "\n",
    "(require rackunit)\n",
    "(check-equal? (we-can-jump (list 2 3 1 1 4)) #t)\n",
    "(check-equal? (we-can-jump (list 3 2 1 0 4)) #f)\n",
    "(check-equal? (we-can-jump (list 0 2 1)) #f)"
   ]
  },
  {
   "cell_type": "markdown",
   "id": "d87989df",
   "metadata": {},
   "source": [
    "for式はあまり好きではないのだけれど、結局のところ「途中でBreak」とかそういうことを考えるとforのほうが良いということはある。特にracketの場合は高性能`fold-left`と考えればよくて、あまり`for`という名前にこだわるのはよくないのだろう。"
   ]
  },
  {
   "cell_type": "code",
   "execution_count": null,
   "id": "af80a1e5",
   "metadata": {},
   "outputs": [],
   "source": []
  }
 ],
 "metadata": {
  "kernelspec": {
   "display_name": "Racket",
   "language": "racket",
   "name": "racket"
  },
  "language_info": {
   "codemirror_mode": "scheme",
   "file_extension": ".rkt",
   "mimetype": "text/x-racket",
   "name": "Racket",
   "pygments_lexer": "racket",
   "version": "8.0"
  }
 },
 "nbformat": 4,
 "nbformat_minor": 5
}
