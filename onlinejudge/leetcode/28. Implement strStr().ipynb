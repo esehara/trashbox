{
 "cells": [
  {
   "cell_type": "markdown",
   "id": "73d61587",
   "metadata": {},
   "source": [
    "そういう関数はたぶんあるのだけど、あえて自分で実装する。というのも、この手の一致というのは良く出てくるので、書き下すに越したことはない。\n",
    "\n",
    "* まず頭の要素が正しいかどうかを判定する\n",
    "* そのあとに後続する要素が正しいかどうかを判定する\n",
    "  * これはフラグで持っていてもいいのだけど、引数が多くなってややこしいだけなので関数で切り分ける\n",
    "    * この関数は調べてミスったときはリストを返す関数のため、あえて`search-miss`みたいな関数にする\n",
    "      * この推測は間違っていて、実際は差し戻したほうがよい\n",
    "      * 関数を切り分けていたので楽に差し戻しが出来るようになった（ラッキー）\n",
    "    * 逆に`search-miss`が`#f`のときは成功ということになる（ややこしい）\n",
    "      * こういう実装にするのは、「ミスった範囲には必ず無い」ので、それだけ先に進める形にしたいというのがある\n",
    "      * 帰ってきた結果に差し替えるだけでよい"
   ]
  },
  {
   "cell_type": "code",
   "execution_count": null,
   "id": "0496f227",
   "metadata": {},
   "outputs": [],
   "source": [
    "(define (search-miss check-lst lst p)\n",
    "  (cond [(null? check-lst) (values 0 #f)]\n",
    "        [(not (char=? (car check-lst) (car lst))) (values p lst)]\n",
    "        [else (search-miss (cdr check-lst) (cdr lst) (add1 p))]))\n",
    "\n",
    "(define (search check-str str) \n",
    "  (define (inner check-chars chars p)\n",
    "    (cond [(> (length check-chars) (length chars)) -1]\n",
    "          [(char=? (car check-chars) (car chars))\n",
    "           (let-values ([(next-p result) (search-miss check-chars chars p)])\n",
    "             (if result (inner check-chars (cdr chars) (add1 p)) p))]\n",
    "          [else (inner check-chars (cdr chars) (add1 p))]))\n",
    "    (if (equal? check-str \"\") 0\n",
    "      (inner (string->list check-str) (string->list str) 0)))\n",
    "\n",
    "(require rackunit)\n",
    "(check-equal? (search \"ll\" \"hello\") 2)\n",
    "(check-equal? (search \"ll\" \"hlello\") 3)\n",
    "(check-equal? (search \"bba\" \"aaaa\") -1)\n",
    "(check-equal? (search \"\" \"aaaa\") 0)"
   ]
  },
  {
   "cell_type": "code",
   "execution_count": null,
   "id": "095e2b57",
   "metadata": {},
   "outputs": [],
   "source": []
  }
 ],
 "metadata": {
  "kernelspec": {
   "display_name": "Racket",
   "language": "racket",
   "name": "racket"
  },
  "language_info": {
   "codemirror_mode": "scheme",
   "file_extension": ".rkt",
   "mimetype": "text/x-racket",
   "name": "Racket",
   "pygments_lexer": "racket",
   "version": "8.0"
  }
 },
 "nbformat": 4,
 "nbformat_minor": 5
}
