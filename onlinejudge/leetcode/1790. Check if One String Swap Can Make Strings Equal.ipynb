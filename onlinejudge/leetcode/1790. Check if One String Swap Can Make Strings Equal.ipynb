{
 "cells": [
  {
   "cell_type": "markdown",
   "id": "2e25feef",
   "metadata": {},
   "source": [
    "難易度はEasyだけどちょっと面倒くさい。一回だけ文字列を変化させるだけでもう一方の文字列に変えることができるか？という問題。\n",
    "\n",
    "交換して文字列があうときというのは:\n",
    "\n",
    "* そもそも文字列が一緒のとき\n",
    "* リストの文字が二つだけ違っていて、違った二つの文字が同じとき\n",
    "\n",
    "なので違った文字の位置をカウントし、HashmapをHashsetのように使って、二つの違う文字が最終的に同じになるかどうかを調べればよい。"
   ]
  },
  {
   "cell_type": "code",
   "execution_count": 7,
   "id": "6ee80786",
   "metadata": {},
   "outputs": [],
   "source": [
    "(define (helper lst1 lst2)\n",
    "  (define (count-hash->list chash)\n",
    "    (sort (hash->list chash) (lambda (x y) (char>? (car x) (car y)))))\n",
    "  (let ([count-hash (make-hash)]\n",
    "        [count-hash2 (make-hash)])\n",
    "    (values (for/fold ([diff 0])\n",
    "              (#:break (>= diff 3)\n",
    "               [c1 lst1]\n",
    "               [c2 lst2])\n",
    "    (if (not (equal? c1 c2))\n",
    "        (begin (hash-set! count-hash c1 '())\n",
    "               (hash-set! count-hash2 c2 '())\n",
    "               (add1 diff))\n",
    "        diff))\n",
    "        (count-hash->list count-hash)\n",
    "        (count-hash->list count-hash2))))\n",
    "\n",
    "(define (solve s1 s2)\n",
    "  (or (string=? s1 s2)\n",
    "      (let-values ([(diff clst1 clst2) (helper (string->list s1) (string->list s2))])\n",
    "                 (and (= diff 2) (equal? clst1 clst2)))))  \n",
    "\n",
    "(require rackunit)\n",
    "(check-equal? (solve \"bank\" \"kanb\") #t)\n",
    "(check-equal? (solve \"attack\" \"defend\") #f)\n",
    "(check-equal? (solve \"kelb\" \"kelb\") #t)\n",
    "(check-equal? (solve \"abcd\" \"dcba\") #f)\n",
    "(check-equal? (solve \"aa\" \"bb\") #f)"
   ]
  },
  {
   "cell_type": "code",
   "execution_count": null,
   "id": "9f044ada",
   "metadata": {},
   "outputs": [],
   "source": []
  }
 ],
 "metadata": {
  "kernelspec": {
   "display_name": "Racket",
   "language": "racket",
   "name": "racket"
  },
  "language_info": {
   "codemirror_mode": "scheme",
   "file_extension": ".rkt",
   "mimetype": "text/x-racket",
   "name": "Racket",
   "pygments_lexer": "racket",
   "version": "8.0"
  }
 },
 "nbformat": 4,
 "nbformat_minor": 5
}
