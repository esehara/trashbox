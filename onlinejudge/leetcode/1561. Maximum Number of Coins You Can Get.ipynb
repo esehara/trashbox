{
 "cells": [
  {
   "cell_type": "markdown",
   "id": "2365b60f",
   "metadata": {},
   "source": [
    "「三つ要素を選んだときの中央の値が最大になるように選ぶ」という問題。もう少し形式化すると三つの要素 (a > b > c)の`b`の要素が常に最大になるように選んでいけばいい。\n",
    "\n",
    "そこで与えられるリストを昇り順、すなわち「a0 > a1 > a2 ... > an」にしたようなリストとして考えれば、bが最大になるということは「a0, a1, an」の選択になる。二番目の要素を追加しつつ、先頭の二つと後半を排除したようなリストを渡す再帰関数を定義してやればいい。\n",
    "\n",
    "**終了条件** はリストを操作できなくなったとき `len(nums) < 3`。"
   ]
  },
  {
   "cell_type": "code",
   "execution_count": 1,
   "id": "4ab11ad2",
   "metadata": {},
   "outputs": [],
   "source": [
    "(define (remove-last lst) (reverse (cdr (reverse lst))))\n",
    "\n",
    "(define (i-can-get-coins nums)\n",
    "  (define (inner nums result)\n",
    "    (if (< (length nums) 3) result\n",
    "        (inner (cddr (remove-last nums)) (+ result (cadr nums)))))\n",
    "  (inner (sort nums >) 0))\n",
    "\n",
    "(require rackunit)\n",
    "(check-equal? (i-can-get-coins (list 2 4 1 2 7 8)) 9)\n",
    "(check-equal? (i-can-get-coins (list 2 4 5)) 4)\n",
    "(check-equal? (i-can-get-coins (list 9 8 7 6 5 1 2 3 4)) 18)"
   ]
  },
  {
   "cell_type": "markdown",
   "id": "590c0ed4",
   "metadata": {},
   "source": [
    "ただこれだと`remove-last`にオーダーがめちゃくちゃかかるので、`array`にして`start`と`end`のポインタをもたせる方法に変更する。\n",
    "\n",
    "**終了条件** はstart + 1がend以上になったとき　"
   ]
  },
  {
   "cell_type": "code",
   "execution_count": 2,
   "id": "7a6ed054",
   "metadata": {},
   "outputs": [],
   "source": [
    "(define (i-can-get-coins nums)\n",
    "  (let ([piles (list->vector (sort nums >))])\n",
    "  (define (inner start end result)\n",
    "    (if (>= (add1 start) end) result\n",
    "        (inner (+ start 2) (- end 1) (+ result (vector-ref piles (add1 start))))))\n",
    "  (inner 0 (- (length nums) 1) 0)))\n",
    "\n",
    "(require rackunit)\n",
    "(check-equal? (i-can-get-coins (list 2 4 1 2 7 8)) 9)\n",
    "(check-equal? (i-can-get-coins (list 2 4 5)) 4)\n",
    "(check-equal? (i-can-get-coins (list 9 8 7 6 5 1 2 3 4)) 18)"
   ]
  },
  {
   "cell_type": "code",
   "execution_count": null,
   "id": "3d0489ed",
   "metadata": {},
   "outputs": [],
   "source": []
  }
 ],
 "metadata": {
  "kernelspec": {
   "display_name": "Racket",
   "language": "racket",
   "name": "racket"
  },
  "language_info": {
   "codemirror_mode": "scheme",
   "file_extension": ".rkt",
   "mimetype": "text/x-racket",
   "name": "Racket",
   "pygments_lexer": "racket",
   "version": "8.0"
  }
 },
 "nbformat": 4,
 "nbformat_minor": 5
}
