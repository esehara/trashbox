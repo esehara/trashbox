{
 "cells": [
  {
   "cell_type": "markdown",
   "id": "f00b5ec3",
   "metadata": {},
   "source": [
    "カッコ問題。カッコ問題なので「左から右に文字列を読み込んでいく」\n",
    "\n",
    "* \"(\" が来たとき -> カウンターを増やして結果を更新する\n",
    "* \")\" が来たとき -> カウンターを減らす\n",
    "\n",
    "たったこれだけ。"
   ]
  },
  {
   "cell_type": "code",
   "execution_count": 6,
   "id": "be21a917",
   "metadata": {},
   "outputs": [],
   "source": [
    "(define (maximum-nesting str)\n",
    "  (define (inner lst counter result)\n",
    "    (let ([result (max counter result)])\n",
    "        (if (null? lst) result\n",
    "        (let ([next-char (string (car lst))])\n",
    "          (cond \n",
    "           [(string=? next-char \"(\") (inner (cdr lst) (add1 counter) result)]\n",
    "           [(string=? next-char \")\") (inner (cdr lst) (sub1 counter) result)]\n",
    "           [else (inner (cdr lst) counter result)])))))\n",
    "  (inner (string->list str) 0 0))\n",
    "\n",
    "(require rackunit)\n",
    "(check-equal? (maximum-nesting \"(1+(2*3)+((8)/4))+1\") 3)\n",
    "(check-equal? (maximum-nesting \"(1)+((2))+(((3)))\") 3)\n",
    "(check-equal? (maximum-nesting \"1+(2*3)/(2-1)\") 1)\n",
    "(check-equal? (maximum-nesting \"1\") 0)"
   ]
  },
  {
   "cell_type": "code",
   "execution_count": null,
   "id": "77309491",
   "metadata": {},
   "outputs": [],
   "source": []
  }
 ],
 "metadata": {
  "kernelspec": {
   "display_name": "Racket",
   "language": "racket",
   "name": "racket"
  },
  "language_info": {
   "codemirror_mode": "scheme",
   "file_extension": ".rkt",
   "mimetype": "text/x-racket",
   "name": "Racket",
   "pygments_lexer": "racket",
   "version": "8.0"
  }
 },
 "nbformat": 4,
 "nbformat_minor": 5
}
