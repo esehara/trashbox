{
 "cells": [
  {
   "cell_type": "markdown",
   "id": "4d9ad985",
   "metadata": {},
   "source": [
    "バックトレースを使って、初期値を一つずつ確かめていく必要がある。初期値の候補については、`n1`を1桁からはじめる。`f`を桁数としたとき、`f(n1) + f(n2)` = `f(num) / 2`が最大値。もし`f(n1) + f(n2) > f(num) / 2`になったときは、`n1`を2桁にしてやり直す。\n",
    "\n",
    "バックトレースを実装するときは関数を細かく切り分ける方法が有効。まずはサンプルがちょうど正解があるので、`f1`と`f2`を与えたら、それに合わせて最後までチェックしてくれる関数を実装する。（まあ継続でもいんだけど、継続は記述量の割にはそれに即した効果を得ていない感じがあるので、ならば関数を繋げていって差し戻すほうが、直感的にも実装的にも解りやすい気はする）"
   ]
  },
  {
   "cell_type": "code",
   "execution_count": 20,
   "id": "23e0b64d",
   "metadata": {},
   "outputs": [],
   "source": [
    "(require racket/list)\n",
    "\n",
    "(define (check-additive n1 n2 num-list)\n",
    "  (let* ([sum (+ n1 n2)]\n",
    "         [sum-length (string-length (number->string sum))])\n",
    "    (cond \n",
    "     [(null? num-list) #t]\n",
    "     [(> sum-length (length num-list)) #f]\n",
    "     [else (let \n",
    "             ([try-num (string->number (list->string (take num-list sum-length)))])\n",
    "             (if (= sum try-num)\n",
    "                 (check-additive n2 try-num (drop num-list sum-length)) #f))])))\n",
    "\n",
    "(require rackunit)\n",
    "(check-equal? (check-additive 1 1 (string->list \"2358\")) #t)\n",
    "(check-equal? (check-additive 1 1 (string->list \"2359\")) #f)\n",
    "\n",
    "(define (set-n2 n1 num-list)\n",
    "  (define (inner n1 lst2 num-list)\n",
    "    (let ([n2 (string->number (list->string lst2))])\n",
    "      (cond [(> (min (string-length (number->string n1)) (length lst2)) (length num-list)) #f]\n",
    "            [(and (> (length lst2) 1) (char=? (car lst2) #\\0)) #f]\n",
    "            [(check-additive n1 n2 num-list) #t]\n",
    "            [else (inner n1 (append lst2 (list (car num-list))) (cdr num-list))])))\n",
    "  (inner n1 (list (car num-list)) (cdr num-list)))\n",
    "\n",
    "(define (set-n1 num-list)\n",
    "  (define (inner lst1 num-list)\n",
    "    (let ([n1 (string->number (list->string lst1))])\n",
    "      (cond [(> (length lst1) (length num-list)) #f]\n",
    "            [(and (> (length lst1) 1) (char=? (car lst1) #\\0)) #f]\n",
    "            [(set-n2 n1 num-list) #t]\n",
    "            [else (inner (append lst1 (list (car num-list))) (cdr num-list))])))\n",
    "  (inner (list (car num-list)) (cdr num-list)))\n",
    "\n",
    "(check-equal? (set-n2 1 (string->list \"99100199\")) #t)\n",
    "(check-equal? (set-n1 (string->list \"199100199\")) #t)\n",
    "(check-equal? (set-n1 (string->list \"112358\")) #t)\n",
    "(check-equal? (set-n1 (string->list \"1023\")) #f)"
   ]
  },
  {
   "cell_type": "markdown",
   "id": "5d065f77",
   "metadata": {},
   "source": [
    "解けたのはいいけれど、野菜が生切れのようなコードになっているので本当に良くないと思う。解いたあとに気になった点としては、先頭にゼロがあるかどうかの判定関数はあるべきのように感じる。あとテストケースに対する「可能性」に対してあまり敏感ではなく、記述漏れを起こして違う結果が出ることが多いので、そこのところの「悪い意味での不注意さ」を直す必要がある。"
   ]
  },
  {
   "cell_type": "code",
   "execution_count": null,
   "id": "d3b0190e",
   "metadata": {},
   "outputs": [],
   "source": []
  }
 ],
 "metadata": {
  "kernelspec": {
   "display_name": "Racket",
   "language": "racket",
   "name": "racket"
  },
  "language_info": {
   "codemirror_mode": "scheme",
   "file_extension": ".rkt",
   "mimetype": "text/x-racket",
   "name": "Racket",
   "pygments_lexer": "racket",
   "version": "8.0"
  }
 },
 "nbformat": 4,
 "nbformat_minor": 5
}
