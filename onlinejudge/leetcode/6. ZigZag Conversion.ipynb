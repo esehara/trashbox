{
 "cells": [
  {
   "cell_type": "markdown",
   "id": "b76dd6a6",
   "metadata": {},
   "source": [
    "関数を二つに分けて考えると良い。具体的には追加する過程を見るとわかるのだけど\n",
    "\n",
    "* numRowsをnとしたとき、最初は 0 -> 1 -> 2 -> ... (n - 1)\n",
    "* 0とn以外の要素に対して逆向きに追加する\n",
    "\n",
    "この二つの関数を相互再帰させながらやると、それなりに簡単に書ける"
   ]
  },
  {
   "cell_type": "code",
   "execution_count": 24,
   "id": "82063fc3",
   "metadata": {},
   "outputs": [],
   "source": [
    "(require racket/string)\n",
    "(define (add-one arr lst)\n",
    "  (let ([arr-length (vector-length arr)])\n",
    "    (define (inner n lst)\n",
    "      (cond \n",
    "       [(null? lst) arr]\n",
    "       [(= n arr-length) (reverse-one arr lst)]\n",
    "       [else (begin \n",
    "           (vector-set! arr n (append (vector-ref arr n) (list (car lst))))\n",
    "           (inner (add1 n) (cdr lst)))]))\n",
    "    (inner 0 lst)))\n",
    "\n",
    "(define (reverse-one arr lst)\n",
    "  (define (inner n lst)\n",
    "    (cond\n",
    "     [(null? lst) arr]\n",
    "     [(= n 0) (add-one arr lst)]\n",
    "     [else (begin\n",
    "            (vector-set! arr n (append (vector-ref arr n) (list (car lst))))\n",
    "            (inner (sub1 n) (cdr lst)))]))\n",
    "  (inner (- (vector-length arr) 2) lst))\n",
    "\n",
    "(define (solve s num)\n",
    "  (string-join \n",
    "   (map list->string \n",
    "        (vector->list  (add-one (make-vector num (list)) (string->list s)))) \n",
    "   \"\"))\n",
    "\n",
    "(require rackunit)\n",
    "(check-equal? (solve \"PAYPALISHIRING\" 3) \"PAHNAPLSIIGYIR\")\n",
    "(check-equal? (solve \"PAYPALISHIRING\" 4) \"PINALSIGYAHRPI\")"
   ]
  },
  {
   "cell_type": "code",
   "execution_count": null,
   "id": "3803e240",
   "metadata": {},
   "outputs": [],
   "source": []
  }
 ],
 "metadata": {
  "kernelspec": {
   "display_name": "Racket",
   "language": "racket",
   "name": "racket"
  },
  "language_info": {
   "codemirror_mode": "scheme",
   "file_extension": ".rkt",
   "mimetype": "text/x-racket",
   "name": "Racket",
   "pygments_lexer": "racket",
   "version": "8.0"
  }
 },
 "nbformat": 4,
 "nbformat_minor": 5
}
