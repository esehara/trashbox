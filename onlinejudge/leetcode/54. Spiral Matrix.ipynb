{
 "cells": [
  {
   "cell_type": "markdown",
   "id": "465fdc0a",
   "metadata": {},
   "source": [
    "一番最初の行を取る操作、最後の要素を取る操作……みたいに定義するとバグが生まれやすいので、元のリストを加工しながら最後まで進めていくのがよい。\n",
    "\n",
    "そうすると、縦と横で同じ操作をすればいいということがわかるので、その二つの操作だけを定義して、あとは内部で切り替えながらやればいいということになる（たぶん縦と横も共通化できる解答があったけれど、どういうものだったかは忘れた。興味ある人は探してみるといいかもしれない）\n",
    "\n",
    "この手の「配列を操作すれば同型の操作になる」みたいなものに関しては連結リストは強く、ほかの言語は色々と考えているみたいで、こればっかりは大変だねえなんて他人事のように思っていた。とはいえ、実際はもっと早い実装はあるようだ。（恐らくフィルターリングとか云々しているところで時間がかかっているのだろう）"
   ]
  },
  {
   "cell_type": "code",
   "execution_count": 21,
   "id": "55e9f195",
   "metadata": {},
   "outputs": [],
   "source": [
    "(struct work (current rest))\n",
    "\n",
    "(define (get-column now)\n",
    "  (let ([use-matrix (work-rest now)])\n",
    "    (work (append (work-current now) (car use-matrix))\n",
    "          (filter (lambda (x) (not (null? x)))\n",
    "                    (map (lambda (x) (reverse x)) (cdr use-matrix))))))\n",
    "\n",
    "(define (get-row now)\n",
    "  (let ([use-matrix (work-rest now)])\n",
    "    (work (append (work-current now) (map (lambda (x) (car x)) use-matrix))\n",
    "          (filter (lambda (x) (not (null? x))) \n",
    "                  (reverse (map (lambda (x) (cdr x)) use-matrix))))))\n",
    "\n",
    "(define (work-rest-empty? x) (null? (work-rest x)))\n",
    "        \n",
    "(define (spiral-sort lst)\n",
    "  (define (inner now next)\n",
    "      (cond [(work-rest-empty? now) (work-current now)]\n",
    "            [(equal? next 'column) (inner (get-column now) 'row)]\n",
    "            [(equal? next 'row) (inner (get-row now) 'column)]))\n",
    "  (inner (work (list) lst) 'column))\n",
    "\n",
    "(define test-matrix (list (list 1 2 3) (list 4 5 6) (list 7 8 9)))\n",
    "(check-equal? (work-rest (get-column (work (list) test-matrix)))\n",
    "              (list (list 6 5 4) (list 9 8 7)))\n",
    "(define test2-matrix (list (list 6 5 4) (list 9 8 7)))\n",
    "(check-equal? (work-rest (get-row (work (list) test2-matrix)))\n",
    "              (list (list 8 7) (list 5 4)))\n",
    "(check-equal? (spiral-sort test-matrix) (list 1 2 3 6 9 8 7 4 5))\n",
    "(check-equal? (spiral-sort\n",
    "              (list (list 1 2 3 4) (list 5 6 7 8) (list 9 10 11 12)))\n",
    "              (list 1 2 3 4 8 12 11 10 9 5 6 7))"
   ]
  }
 ],
 "metadata": {
  "kernelspec": {
   "display_name": "Racket",
   "language": "racket",
   "name": "racket"
  },
  "language_info": {
   "codemirror_mode": "scheme",
   "file_extension": ".rkt",
   "mimetype": "text/x-racket",
   "name": "Racket",
   "pygments_lexer": "racket",
   "version": "8.0"
  }
 },
 "nbformat": 4,
 "nbformat_minor": 5
}
