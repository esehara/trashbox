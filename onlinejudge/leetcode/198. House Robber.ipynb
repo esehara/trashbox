{
 "cells": [
  {
   "cell_type": "markdown",
   "id": "17dbd352",
   "metadata": {},
   "source": [
    "典型的なDP問題。要は後ろ向きに最大値を取っていくタイプの問題。\n",
    "\n",
    "* iを(配列の長さ - 1)とし、最後(`M[i]`)にたどり着いた時点でお金が最大になるパターンは(`M[i - 1]`)の最大値か、あるいは(`M[i - 2]` + `M[i]`）ということになる。ただし、`i < 0`のとき、最大値は0となる。\n",
    "\n",
    "* 再帰で書いてもいいんだけど、必要な配列は2つだけなので、前に向かって結果を畳んでいくパターンで書く"
   ]
  },
  {
   "cell_type": "code",
   "execution_count": 19,
   "id": "9d14a12a",
   "metadata": {},
   "outputs": [],
   "source": [
    "(define (simple-dp lst)\n",
    "  (define (inner prev lst)\n",
    "    (if (null? lst) (apply max prev)\n",
    "        (inner\n",
    "         (cons (max (+ (car lst) (cadr prev)) (car prev))\n",
    "                    (list (car prev)))\n",
    "         (cdr lst))))\n",
    "  (inner (list 0 0) lst))\n",
    "\n",
    "(require rackunit)\n",
    "(check-equal? (simple-dp (list 1 2 3 1)) 4)\n",
    "(check-equal? (simple-dp (list 2 7 9 3 1)) 12)\n",
    "(check-equal? (simple-dp (list 2 1 1 2)) 4)"
   ]
  },
  {
   "cell_type": "markdown",
   "id": "8bbef7b4",
   "metadata": {},
   "source": [
    "正直、テンプレート的に何度も書いた処理ではあるので、競プロとしてやるのならば5分くらいで書きたい。"
   ]
  },
  {
   "cell_type": "code",
   "execution_count": null,
   "id": "b84f0923",
   "metadata": {},
   "outputs": [],
   "source": []
  }
 ],
 "metadata": {
  "kernelspec": {
   "display_name": "Racket",
   "language": "racket",
   "name": "racket"
  },
  "language_info": {
   "codemirror_mode": "scheme",
   "file_extension": ".rkt",
   "mimetype": "text/x-racket",
   "name": "Racket",
   "pygments_lexer": "racket",
   "version": "8.0"
  }
 },
 "nbformat": 4,
 "nbformat_minor": 5
}
