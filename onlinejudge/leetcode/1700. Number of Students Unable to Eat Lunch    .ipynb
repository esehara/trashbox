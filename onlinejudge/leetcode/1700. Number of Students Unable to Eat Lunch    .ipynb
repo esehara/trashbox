{
 "cells": [
  {
   "cell_type": "markdown",
   "id": "76871bfe",
   "metadata": {},
   "source": [
    "* **終了条件** \n",
    "  * 生徒の好みが全て一緒であるのにも関わらず、サンドイッチの先頭が違う場合\n",
    "    * なので生徒の好みが一緒ならその値を、違うなら`#f`を返すような関数を定義\n",
    "  * 生徒の好みが違うならば、サンドイッチが切り替わる可能性があるので一周させる\n",
    "    * 一周させて再帰させる"
   ]
  },
  {
   "cell_type": "code",
   "execution_count": 16,
   "id": "8fb2a807",
   "metadata": {},
   "outputs": [],
   "source": [
    "(require racket/function)\n",
    "(define (same-love? lst)\n",
    "  (for/fold ([a (car lst)]) ([b (cdr lst)] #:break (not (identity a)))\n",
    "        (if (equal? a b) a #f)))\n",
    "\n",
    "(define (one-cycle students foods result)\n",
    "  (cond \n",
    "   [(null? students) (values foods (reverse result))]\n",
    "   [(equal? (car students) (car foods)) \n",
    "    (one-cycle (cdr students) (cdr foods) result)]\n",
    "   [else \n",
    "    (one-cycle (cdr students) foods (cons (car students) result))]))\n",
    "\n",
    "(define (launch-cycle students foods)\n",
    "  (if (null? students) 0\n",
    "  (let ([same-love (same-love? students)])\n",
    "    (cond \n",
    "     [(and same-love (not (equal? same-love (car foods)))) (length students)]\n",
    "     [else \n",
    "      (let-values ([(foods students) (one-cycle students foods (list))])\n",
    "         (launch-cycle students foods))]))))\n",
    "\n",
    "(require rackunit)\n",
    "(check-equal? (same-love? (list 1 1 1)) 1)\n",
    "(check-equal? (same-love? (list 1 2 1)) #f)\n",
    "\n",
    "(check-equal? (launch-cycle (list 1 1 0 0) (list 0 1 0 1)) 0)\n",
    "(check-equal? (launch-cycle (list 1 1 1 0 0 1) (list 1 0 0 0 1 1)) 3)"
   ]
  },
  {
   "cell_type": "markdown",
   "id": "567baca5",
   "metadata": {},
   "source": [
    "おそらく、生徒が同じものが好きかどうかを毎回調べるのはオーダー数がかかりすぎるので、1サイクル毎にしたのは正しいのだけれど、1サイクルの関数を書くのにすこし迷った感じがある。たぶん今回はじめて複数の値を返すような関数を定義したのが要因だと思う。\n",
    "\n",
    "最初の方針としては`struct`を定義したのだけれども、構造体を定義しちゃうとその分余計なオペレーターが増えてコード量が増える。コード量が増えると見通しが悪くなるので良くない。それを意図的にわかりやすくするとなると、関数を定義しないといけない。時間が無限にあればいいけれど、そうもいかない。\n",
    "\n",
    "となると、そういう場合は基本的に「複数値」を返すような関数を別途用意し、それを受け取るという方針が良くて、そういうコードを書けたのは良かったけど、ただそういう判断がすぐにできるようになると、もう少し素直にかける感じがある。"
   ]
  },
  {
   "cell_type": "code",
   "execution_count": null,
   "id": "3b6cc17a",
   "metadata": {},
   "outputs": [],
   "source": []
  }
 ],
 "metadata": {
  "kernelspec": {
   "display_name": "Racket",
   "language": "racket",
   "name": "racket"
  },
  "language_info": {
   "codemirror_mode": "scheme",
   "file_extension": ".rkt",
   "mimetype": "text/x-racket",
   "name": "Racket",
   "pygments_lexer": "racket",
   "version": "8.0"
  }
 },
 "nbformat": 4,
 "nbformat_minor": 5
}
