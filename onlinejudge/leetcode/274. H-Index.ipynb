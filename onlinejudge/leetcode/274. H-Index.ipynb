{
 "cells": [
  {
   "cell_type": "markdown",
   "id": "f358060f",
   "metadata": {},
   "source": [
    "問題の定義より、`h`の範囲は`0 <= h <= n`。配列を昇順にソートし、`h`の初期値を`0`にセットする。配列の先頭が `h < a[i]`だったときに`h`を一つ上げて次の要素へいく。`h >= a[i]`になったとき、その`h`が答えになる。"
   ]
  },
  {
   "cell_type": "code",
   "execution_count": 7,
   "id": "422e17cd",
   "metadata": {},
   "outputs": [],
   "source": [
    "(define (solve lst)\n",
    "  (define (inner lst h)\n",
    "    (if (<= (car lst) h) h\n",
    "        (inner (cdr lst) (add1 h))))\n",
    "  (inner (sort lst >) 0))\n",
    "\n",
    "(require rackunit)\n",
    "(check-equal? (solve (list 3 0 6 1 5)) 3)\n",
    "(check-equal? (solve (list 1 3 1)) 1)"
   ]
  },
  {
   "cell_type": "code",
   "execution_count": null,
   "id": "e5704db6",
   "metadata": {},
   "outputs": [],
   "source": []
  }
 ],
 "metadata": {
  "kernelspec": {
   "display_name": "Racket",
   "language": "racket",
   "name": "racket"
  },
  "language_info": {
   "codemirror_mode": "scheme",
   "file_extension": ".rkt",
   "mimetype": "text/x-racket",
   "name": "Racket",
   "pygments_lexer": "racket",
   "version": "8.0"
  }
 },
 "nbformat": 4,
 "nbformat_minor": 5
}
