{
 "cells": [
  {
   "cell_type": "markdown",
   "id": "50c39ac3",
   "metadata": {},
   "source": [
    "ディフェクトリパスについてはスタックで持っておき、クエリとして使用する。あとは`\"\"` `\".\"` `\"..\"`が来たときは特殊処理になるので、それぞれの処理にあわせて書く。配列に追加するときは先頭から追加していき、最後に`reverse`をかますのが効率が良い。"
   ]
  },
  {
   "cell_type": "code",
   "execution_count": 1,
   "id": "a7868f90",
   "metadata": {},
   "outputs": [],
   "source": [
    "(require racket/string)\n",
    "\n",
    "(define (path-query s)\n",
    "  (define (inner query path)\n",
    "    (cond [(null? query) (string-append \"/\" (string-join (reverse path) \"/\"))]\n",
    "          [(or (string=? \".\" (car query))\n",
    "               (string=? \"\" (car query)))\n",
    "          (inner (cdr query) path)]\n",
    "          [(string=? \"..\" (car query))\n",
    "           (inner (cdr query) (if (null? path) (list) (cdr path)))]\n",
    "          [else (inner (cdr query) (cons (car query) path))]))\n",
    "  (inner (string-split s \"/\") (list)))\n",
    "\n",
    "(require rackunit)\n",
    "(check-equal? (path-query \"/home//foo\") \"/home/foo\")\n",
    "(check-equal? (path-query \"/a/.//b/../../c/\") \"/c\")"
   ]
  },
  {
   "cell_type": "code",
   "execution_count": null,
   "id": "861c06c6",
   "metadata": {},
   "outputs": [],
   "source": []
  }
 ],
 "metadata": {
  "kernelspec": {
   "display_name": "Racket",
   "language": "racket",
   "name": "racket"
  },
  "language_info": {
   "codemirror_mode": "scheme",
   "file_extension": ".rkt",
   "mimetype": "text/x-racket",
   "name": "Racket",
   "pygments_lexer": "racket",
   "version": "8.0"
  }
 },
 "nbformat": 4,
 "nbformat_minor": 5
}
