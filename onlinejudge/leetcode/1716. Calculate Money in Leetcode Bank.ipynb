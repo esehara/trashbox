{
 "cells": [
  {
   "cell_type": "markdown",
   "id": "6cdb291b",
   "metadata": {},
   "source": [
    "さすがに一日毎に計算するのは効率が悪いので、1週間毎に計算できる式を立てる。（1000日くらいなので1日毎でもよい）\n",
    "\n",
    "一週間の周期をkとすると:\n",
    "\n",
    "* k(1) = (1 + 2 + 3 + 4 + 5 + 6 + 7) = 28\n",
    "* k(2) = k(1) + 7\n",
    "* k(n) = k(n - 1) + 7\n",
    "\n",
    "となる。余りについては周期k(n)のnから足していくようにしていけばいいので、そういう風に計算する。"
   ]
  },
  {
   "cell_type": "code",
   "execution_count": 16,
   "id": "77fb3d45",
   "metadata": {},
   "outputs": [],
   "source": [
    "(require racket/stream)\n",
    "\n",
    "(define (k-th days)\n",
    "  (let ([limit (truncate (/ days 7))])\n",
    "    (define (inner k result)\n",
    "      (if (= k limit) (+ result (apply + (stream->list (in-range (add1 limit) (add1 (+ (modulo days 7) limit))))))\n",
    "          (inner (add1 k) (+ result (+ (* 7 k) 28)))))\n",
    "    (inner 0 0)))\n",
    "\n",
    "(require rackunit)\n",
    "(check-equal? (k-th 4) 10)\n",
    "(check-equal? (k-th 10) 37)\n",
    "(check-equal? (k-th 20) 96)\n"
   ]
  }
 ],
 "metadata": {
  "kernelspec": {
   "display_name": "Racket",
   "language": "racket",
   "name": "racket"
  },
  "language_info": {
   "codemirror_mode": "scheme",
   "file_extension": ".rkt",
   "mimetype": "text/x-racket",
   "name": "Racket",
   "pygments_lexer": "racket",
   "version": "8.0"
  }
 },
 "nbformat": 4,
 "nbformat_minor": 5
}
