{
 "cells": [
  {
   "cell_type": "markdown",
   "id": "22a81888",
   "metadata": {},
   "source": [
    "単純にInvalidなカッコを数えるだけのお仕事。\n",
    "\n",
    "例よってParenttheses系のテンプレート:\n",
    "\n",
    "* \"(\" -> countを上げる\n",
    "* \")\" -> countを下げる\n",
    "\n",
    "「Invalidなパターン」というのは:\n",
    "\n",
    "* 開カッコがないのに閉じカッコが来た -> countが0のとき\n",
    "* 開きカッコがないのに閉じカッコがある -> 最後に閉じてない開きカッコを追加する\n",
    "\n",
    "なのでそのように書く。"
   ]
  },
  {
   "cell_type": "code",
   "execution_count": 2,
   "id": "f530b470",
   "metadata": {},
   "outputs": [],
   "source": [
    "(define (invalid-parentheses str)\n",
    "  (define (inner char-list open-paren result)\n",
    "    (cond [(null? char-list) (+ result open-paren)]\n",
    "          [(string=? (string (car char-list)) \"(\") \n",
    "           (inner (cdr char-list) (add1 open-paren) result)]\n",
    "          [(string=? (string (car char-list)) \")\") \n",
    "           (inner (cdr char-list)\n",
    "                  (if (= open-paren 0) 0 (sub1 open-paren))\n",
    "                  (if (= open-paren 0) (add1 result) result))]))\n",
    "  (inner (string->list str) 0 0))\n",
    "\n",
    "(require rackunit)\n",
    "(check-equal? (invalid-parentheses \"())\") 1)\n",
    "(check-equal? (invalid-parentheses \"(((\") 3)\n",
    "(check-equal? (invalid-parentheses \"()\") 0)\n",
    "(check-equal? (invalid-parentheses \"()))((\")4)"
   ]
  },
  {
   "cell_type": "markdown",
   "id": "8c489645",
   "metadata": {},
   "source": [
    "今回は簡単な問題だったから再帰関数に対して`if`でぶらさげれているけれども、本来的には更新関数みたいなのを定義してあげたほうが、再帰関数としては綺麗になる感じがある。"
   ]
  },
  {
   "cell_type": "code",
   "execution_count": null,
   "id": "9d25a426",
   "metadata": {},
   "outputs": [],
   "source": []
  }
 ],
 "metadata": {
  "kernelspec": {
   "display_name": "Racket",
   "language": "racket",
   "name": "racket"
  },
  "language_info": {
   "codemirror_mode": "scheme",
   "file_extension": ".rkt",
   "mimetype": "text/x-racket",
   "name": "Racket",
   "pygments_lexer": "racket",
   "version": "8.0"
  }
 },
 "nbformat": 4,
 "nbformat_minor": 5
}
