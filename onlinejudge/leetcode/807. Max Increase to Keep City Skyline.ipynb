{
 "cells": [
  {
   "cell_type": "markdown",
   "id": "995ce167",
   "metadata": {},
   "source": [
    "問題文には色々と書いてあるが、結局は「`grid[i][j]`が属する`i行`と`j列`の最大値の中で小さい方を`grid[i][j]`にセットする」だけでよい。\n",
    "\n",
    "この手の問題はたぶん予め「ベクター」に直していたほうがオーダー数は少ない。\n",
    "\n",
    "## 必要な関数\n",
    "\n",
    "* 列の値をそれぞれ取るような関数\n"
   ]
  },
  {
   "cell_type": "code",
   "execution_count": 1,
   "id": "db2255fc",
   "metadata": {},
   "outputs": [],
   "source": [
    "(define (column j grid)  (map (lambda (line) (list-ref line j)) grid))\n",
    "(define (row i grid) (index-of grid i))\n",
    "\n",
    "(require rackunit)\n",
    "(check-equal? (column 1 (list (list 1 2 3) (list 4 5 6) (list 7 8 9))) (list 2 5 8))"
   ]
  },
  {
   "cell_type": "markdown",
   "id": "dc2b81c4",
   "metadata": {},
   "source": [
    "`row`の関数自体は別に大したことはないのだけれど、命名を共通化したほうがコードとしてはわかりやすいのでそうする。ただRacketにはindexつきmapというのが存在しない（たぶん）ので`for/list`を使うのが良い（挙動的には`map`と等価）。"
   ]
  },
  {
   "cell_type": "code",
   "execution_count": 2,
   "id": "ae39b0dc",
   "metadata": {},
   "outputs": [],
   "source": [
    "(define (column j grid)  (map (lambda (line) (list-ref line j)) grid))\n",
    "(define (row i grid) (list-ref grid i))\n",
    "(define (solve grid)\n",
    "  (let ([n (length grid)])\n",
    "      (for/list ([i (in-range 0 n)]) (for/list ([j (in-range 0 n)])\n",
    "         (min (apply max (row i grid)) (apply max (column j grid)))))))\n",
    "\n",
    "(require rackunit)\n",
    "(check-equal? (solve (list \n",
    "                      (list 3 0 8 4)\n",
    "                      (list 2 4 5 7)\n",
    "                      (list 9 2 6 3)\n",
    "                      (list 0 3 1 0)))\n",
    "              (list (list 8 4 8 7)\n",
    "                    (list 7 4 7 7)\n",
    "                    (list 9 4 8 7)\n",
    "                    (list 3 3 3 3)))"
   ]
  },
  {
   "cell_type": "markdown",
   "id": "dd7ebd06",
   "metadata": {},
   "source": [
    "この解法でだいたい方針は正しいとわかったので、全体のビルを高くしたときのコストを求めるコードを書く。"
   ]
  },
  {
   "cell_type": "code",
   "execution_count": 3,
   "id": "e779c084",
   "metadata": {},
   "outputs": [],
   "source": [
    "(define (column j grid)  (map (lambda (line) (list-ref line j)) grid))\n",
    "(define (row i grid) (list-ref grid i))\n",
    "(define (solve grid)\n",
    "  (let ([n (length grid)])\n",
    "      (for/fold ([ans-i 0]) ([i (in-range 0 n)]) \n",
    "            (+ ans-i (for/fold ([ans-j 0]) ([j (in-range 0 n)])\n",
    "            (+ ans-j (- (min (apply max (row i grid)) (apply max (column j grid)))\n",
    "                        (list-ref (list-ref grid i) j))))))))"
   ]
  },
  {
   "cell_type": "markdown",
   "id": "38fe3bba",
   "metadata": {},
   "source": [
    "こういうのがコンパクトにコードに書けると気持ちいい。マクロとかを使って圧縮できる感じにしたほうが良い可能性もある。"
   ]
  }
 ],
 "metadata": {
  "kernelspec": {
   "display_name": "Racket",
   "language": "racket",
   "name": "racket"
  },
  "language_info": {
   "codemirror_mode": "scheme",
   "file_extension": ".rkt",
   "mimetype": "text/x-racket",
   "name": "Racket",
   "pygments_lexer": "racket",
   "version": "8.0"
  }
 },
 "nbformat": 4,
 "nbformat_minor": 5
}
