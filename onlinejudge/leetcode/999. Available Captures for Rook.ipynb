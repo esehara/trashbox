{
 "cells": [
  {
   "cell_type": "markdown",
   "id": "37ac7882",
   "metadata": {},
   "source": [
    "この手のチェス盤問題は、考え方は簡単なんだけど実装が面倒くさい。\n",
    "\n",
    "まずポジション構造体を定義してあげて、チェックしたい向きに対してそのポジション構造体を再構築するような関数を定義する => `(x y)`。\n",
    "\n",
    "そのあとに、そのポジションの向きへのチェックが継続する場合(`\"\"`)と終了する場合(制約からみて `\"p\"`である場合とそうでない場合、リストに対するアクセスが失敗した場合)と分けるといい。今回は`\"B\"`の延長上に`\"p\"`がいるかどうかを探す問題なのだから、0と1で結果を返し、それを集めれば良い。\n",
    "\n",
    "そのあと、\"R\"が存在する(x y)の場所を探し出して、計算するといい。"
   ]
  },
  {
   "cell_type": "code",
   "execution_count": 1,
   "id": "15a0236e",
   "metadata": {},
   "outputs": [],
   "source": [
    "(struct pos (x y))\n",
    "(define direction (list \"U\" \"D\" \"L\" \"R\"))\n",
    "(define (go p d)\n",
    "  (cond  [(string=? d \"U\") (pos (pos-x p) (sub1 (pos-y p)))]\n",
    "         [(string=? d \"D\") (pos (pos-x p) (add1 (pos-y p)))]\n",
    "         [(string=? d \"L\") (pos (sub1 (pos-x p)) (pos-y p))]\n",
    "         [(string=? d \"R\") (pos (add1 (pos-x p)) (pos-y p))]))\n",
    "\n",
    "(define (check vec2 p d)\n",
    "  (with-handlers  ([exn:fail? (lambda (e) 0)])\n",
    "  (let* ([p (go p d)]\n",
    "         [v (vector-ref (vector-ref vec2 (pos-y p)) (pos-x p))])\n",
    "    (printf \"~A\" v)\n",
    "    (cond [(string=? v \".\") (check vec2 p d)]\n",
    "          [(string=? v \"p\") 1]\n",
    "          [else 0]))))\n",
    "\n",
    "(define (list2->vector2 lst) (list->vector (map list->vector lst)))\n",
    "(define (solve lst)\n",
    "  (define (inner vec2)\n",
    "    (for/fold ([a 0]) ([line lst] [y (in-range 0 8)])\n",
    "       (+ a (for/fold ([b 0]) ([line lst] [x (in-range 0 8)])\n",
    "         (let ([space (vector-ref (vector-ref vec2 y) x)])\n",
    "           (if (string=? space \"R\") \n",
    "               (apply + (map (lambda (d) (check vec2 (pos x y) d)) direction))\n",
    "               b))))))\n",
    "  (inner (list2->vector2 lst)))                      "
   ]
  },
  {
   "cell_type": "markdown",
   "id": "529660c4",
   "metadata": {},
   "source": [
    "二次元配列になると、どうやってアクセスするんだとかそういうのが出てきて難しくなるので、その辺りをちゃんと頭で思かぶようになれば速度が早くなりそう。"
   ]
  }
 ],
 "metadata": {
  "kernelspec": {
   "display_name": "Racket",
   "language": "racket",
   "name": "racket"
  },
  "language_info": {
   "codemirror_mode": "scheme",
   "file_extension": ".rkt",
   "mimetype": "text/x-racket",
   "name": "Racket",
   "pygments_lexer": "racket",
   "version": "8.0"
  }
 },
 "nbformat": 4,
 "nbformat_minor": 5
}
