{
 "cells": [
  {
   "cell_type": "markdown",
   "id": "4257a920",
   "metadata": {},
   "source": [
    "いちいち回転させるとそれだけのコストがかかるので、添字をずらして総数を取るような関数を定義したほうがよい。"
   ]
  },
  {
   "cell_type": "code",
   "execution_count": null,
   "id": "82fbe0a4",
   "metadata": {},
   "outputs": [],
   "source": [
    "(define (rotate-function lst)\n",
    "  (let ([len (length lst)]\n",
    "        [vec (list->vector lst)])\n",
    "    (define (rotate-one k)\n",
    "      (for/fold ([a 0])\n",
    "                ([i (in-range 0 len)])\n",
    "                (+ a (* (vector-ref vec (modulo (+ i k) len)) i))))\n",
    "    (for/fold ([a -inf.f])\n",
    "              ([i (in-range 0 len)])\n",
    "              (inexact->exact (max a (rotate-one i))))))\n",
    "(require rackunit)\n",
    "(check-equal? (rotate-function (list 4 3 2 6)) 26)        "
   ]
  },
  {
   "cell_type": "code",
   "execution_count": null,
   "id": "29163a81",
   "metadata": {},
   "outputs": [],
   "source": []
  }
 ],
 "metadata": {
  "kernelspec": {
   "display_name": "Racket",
   "language": "racket",
   "name": "racket"
  },
  "language_info": {
   "codemirror_mode": "scheme",
   "file_extension": ".rkt",
   "mimetype": "text/x-racket",
   "name": "Racket",
   "pygments_lexer": "racket",
   "version": "8.0"
  }
 },
 "nbformat": 4,
 "nbformat_minor": 5
}
