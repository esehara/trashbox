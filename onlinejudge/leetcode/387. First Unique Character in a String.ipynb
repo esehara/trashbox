{
 "cells": [
  {
   "cell_type": "markdown",
   "id": "2d308127",
   "metadata": {},
   "source": [
    "単純にHashMapを使い、最初に出てきたときと何回出てきたかを記録していけばよい。"
   ]
  },
  {
   "cell_type": "code",
   "execution_count": null,
   "id": "cec0c18d",
   "metadata": {},
   "outputs": [],
   "source": [
    "(struct alphabet (pos times))\n",
    "(define (simple-count lst)\n",
    "  (let ([count-hash (make-hash)])\n",
    "    (for ([i lst]\n",
    "          [pos (in-range 0 (length lst))])\n",
    "         (with-handlers \n",
    "          ([exn:fail? (lambda (e) (hash-set! count-hash i (alphabet pos 1)))])\n",
    "          (hash-set! count-hash i\n",
    "                     (let ([struct-alpha (hash-ref count-hash i)])\n",
    "                       (alphabet (alphabet-pos struct-alpha)\n",
    "                                 (add1 (alphabet-times struct-alpha)))))))\n",
    "    (let ([temp (filter (lambda (x) (= (alphabet-times (cdr x)) 1)) (hash->list count-hash))])\n",
    "      (if (null? temp) -1\n",
    "          (alphabet-pos (cdar (sort temp (lambda (x y) (< (alphabet-pos (cdr x)) (alphabet-pos (cdr y)))))))))))\n",
    "                 \n",
    "(define (solve s) (simple-count (string->list s)))"
   ]
  },
  {
   "cell_type": "markdown",
   "id": "ae2cca0d",
   "metadata": {},
   "source": [
    "ただ、脳が疲れているのかバグを出しまくったり素直に書けなかったりするので、あまり安定しない。効率も良くないので、そういうときにはどうするか、みたいな対策が必要。"
   ]
  },
  {
   "cell_type": "code",
   "execution_count": null,
   "id": "da3e3a16",
   "metadata": {},
   "outputs": [],
   "source": []
  }
 ],
 "metadata": {
  "kernelspec": {
   "display_name": "Racket",
   "language": "racket",
   "name": "racket"
  },
  "language_info": {
   "codemirror_mode": "scheme",
   "file_extension": ".rkt",
   "mimetype": "text/x-racket",
   "name": "Racket",
   "pygments_lexer": "racket",
   "version": "8.0"
  }
 },
 "nbformat": 4,
 "nbformat_minor": 5
}
