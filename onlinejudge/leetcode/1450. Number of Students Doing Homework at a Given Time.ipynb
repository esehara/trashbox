{
 "cells": [
  {
   "cell_type": "markdown",
   "id": "fb09ba11",
   "metadata": {},
   "source": [
    "素朴に考えると動的計画法で配列にぶちこむという方法でもいいのではないかという気はするんだけど、それでやると`100 * 1000 = 10000`が最悪のオーダー数。\n",
    "\n",
    "もう少しちゃんと考えれば、要はそれぞれの生徒の`startTime`と`endTime`を組み合わせて、`(startTime endTime)`というペアを作り、`startTime <= k < endTime`になるようなペアの数を数えていけばよい。こうすれば最悪でも`2 * 100`くらいに収まるのでかなり高速。"
   ]
  },
  {
   "cell_type": "code",
   "execution_count": 7,
   "id": "89781b29",
   "metadata": {},
   "outputs": [],
   "source": [
    "(define (solve start-time end-time query-time)\n",
    "  (foldl \n",
    "   (lambda (x result) (if (and (<= (car x) query-time) (< query-time (cdr x))) \n",
    "                          (+ result 1) result)) 0\n",
    "   (map (lambda (x y) (cons x y)) start-time end-time)))\n",
    "\n",
    "(require rackunit)\n",
    "(check-equal? (solve (list 1 2 3) (list 3 2 7) 4) 1)\n",
    "(check-equal? (solve (list 4) (list 4) 5) 0)\n",
    "(check-equal? (solve (list 1 1 1 1) (list 1 3 2 4) 7) 0)"
   ]
  },
  {
   "cell_type": "markdown",
   "id": "17f6773c",
   "metadata": {},
   "source": [
    "もちろん、配列にしてiでぶったぎってアクセスしたらオーダー数はもっと減るけど、それはオーバーエンジニアリングなので、これくらいでよい。"
   ]
  }
 ],
 "metadata": {
  "kernelspec": {
   "display_name": "Racket",
   "language": "racket",
   "name": "racket"
  },
  "language_info": {
   "codemirror_mode": "scheme",
   "file_extension": ".rkt",
   "mimetype": "text/x-racket",
   "name": "Racket",
   "pygments_lexer": "racket",
   "version": "8.0"
  }
 },
 "nbformat": 4,
 "nbformat_minor": 5
}
