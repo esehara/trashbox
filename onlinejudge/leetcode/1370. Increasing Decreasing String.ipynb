{
 "cells": [
  {
   "cell_type": "markdown",
   "id": "e07988c2",
   "metadata": {},
   "source": [
    "* 「文字を集計して文字をグルーピングしたリスト」が必要なので、そういった関数を用意する。\n",
    "* 先頭のストリングを取って、それらを繋いだあとに反転し、nullであるようなリストをフィルタする。リストに文字列がなくなるまでそれを続行する。"
   ]
  },
  {
   "cell_type": "code",
   "execution_count": null,
   "id": "8319d58f",
   "metadata": {},
   "outputs": [],
   "source": [
    "(require racket/string)\n",
    "(define (string->grouped-list str)\n",
    "  (let ([grouped-hash (make-hash)])\n",
    "  (define (inner char-list)\n",
    "    (for ([c char-list])\n",
    "       (with-handlers\n",
    "         ([exn:fail? (lambda (e) (hash-set! grouped-hash (string c) (list (string c))))])\n",
    "         (hash-set! grouped-hash (string c) (cons (string c) (hash-ref grouped-hash (string c))))))\n",
    "      (sort (map (lambda (x) (cdr x)) (hash->list grouped-hash)) (lambda (x y) (string<? (car x) (car y)))))\n",
    "  (inner (string->list str))))\n",
    "\n",
    "(define (inc-dec str)\n",
    "  (define (inner str-lst result)\n",
    "    (if (null? str-lst) result\n",
    "        (let*\n",
    "          ([append-str (string-join (map (lambda (x) (car x)) str-lst) \"\")]\n",
    "           [result (string-append result append-str)]\n",
    "           [str-lst (reverse (filter (lambda (y) (not (null? y))) (map (lambda (x) (cdr x)) str-lst)))])\n",
    "          (inner str-lst result))))\n",
    "  (inner (string->grouped-list str) \"\"))\n",
    "\n",
    "(require rackunit)\n",
    "(check-equal? (string->grouped-list \"aaabbc\") (list (list \"a\" \"a\" \"a\") (list \"b\" \"b\") (list \"c\")))\n",
    "(check-equal? (inc-dec \"aaaabbbbcccc\") \"abccbaabccba\")\n",
    "(check-equal? (inc-dec \"leetcode\") \"cdelotee\")"
   ]
  },
  {
   "cell_type": "markdown",
   "id": "6e4aefb3",
   "metadata": {},
   "source": [
    "文章にすると簡単なんだけど、実装すると長くなりがちなのがこの手の問題。`let`で長々と加工するのはあまり見栄えがよくないけれど、じゃあ次の再帰関数に渡す前のところにダラダラ書いても見通しが悪くなるというところで、トレードオフといったところ。"
   ]
  }
 ],
 "metadata": {
  "kernelspec": {
   "display_name": "Racket",
   "language": "racket",
   "name": "racket"
  },
  "language_info": {
   "codemirror_mode": "scheme",
   "file_extension": ".rkt",
   "mimetype": "text/x-racket",
   "name": "Racket",
   "pygments_lexer": "racket",
   "version": "8.0"
  }
 },
 "nbformat": 4,
 "nbformat_minor": 5
}
