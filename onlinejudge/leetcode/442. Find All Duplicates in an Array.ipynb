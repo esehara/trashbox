{
 "cells": [
  {
   "cell_type": "markdown",
   "id": "5a9d81be",
   "metadata": {},
   "source": [
    "制約で「全ての数は一回か、二回出てくるか」という制約があるので、三回出てきたときのことは考えなくていい（現実的じゃない感じはするけど）。\n",
    "\n",
    "こういうのは、単純にソートして前の要素を覚えておき、リストの先頭の要素が同じかどうかを調べるだけでよい。「重複要素が絡む」、かつ「順不同でよい」という条件の場合はソートするという方法が使える。leetcodeは特に順不同でいい場合が多いので、そうするのがベスト。"
   ]
  },
  {
   "cell_type": "code",
   "execution_count": null,
   "id": "92adf992",
   "metadata": {},
   "outputs": [],
   "source": [
    "(define (solve lst)\n",
    "  (let ([lst (sort lst >)])\n",
    "  (define (inner prev lst result)\n",
    "    (cond [(null? lst) result]\n",
    "          [(= prev (car lst)) (inner (car lst) (cdr lst) (cons prev result))]\n",
    "          [else (inner (car lst) (cdr lst) result)]))\n",
    "  (if (= 1 (length lst)) (list)\n",
    "      (inner (car lst) (cdr lst) (list)))))\n",
    "\n",
    "(require rackunit)\n",
    "(check-equal? (solve (list 4 3 2 7 8 2 3 1)) (list 2 3))\n",
    "(check-equal? (solve (list 1 1 2)) (list 1))\n",
    "(check-equal? (solve (list 1)) (list))"
   ]
  },
  {
   "cell_type": "code",
   "execution_count": null,
   "id": "6a504cb8",
   "metadata": {},
   "outputs": [],
   "source": []
  }
 ],
 "metadata": {
  "kernelspec": {
   "display_name": "Racket",
   "language": "racket",
   "name": "racket"
  },
  "language_info": {
   "codemirror_mode": "scheme",
   "file_extension": ".rkt",
   "mimetype": "text/x-racket",
   "name": "Racket",
   "pygments_lexer": "racket",
   "version": "8.0"
  }
 },
 "nbformat": 4,
 "nbformat_minor": 5
}
