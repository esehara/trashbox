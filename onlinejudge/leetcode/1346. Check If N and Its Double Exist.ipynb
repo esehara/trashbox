{
 "cells": [
  {
   "cell_type": "markdown",
   "id": "ba27e0ec",
   "metadata": {},
   "source": [
    "全ての二倍の数を調べて配列に存在しているかどうかを調べるだけの奴。上手くいかなかったらそれはそれ。単に「true, false」を聞いているだけなので、再帰で回せばよい。(安全にやるなら`for`のほうがよいとは思う)。\n",
    "\n",
    "ただ今回の場合、配列に0が含まれているときは`(* 2 0)` -> `0`となり、自身にマッチしているため、`filter`で除外したほうがよい。ただし`0`が二つ以上あるなら無条件に`true`で良い。"
   ]
  },
  {
   "cell_type": "code",
   "execution_count": 4,
   "id": "41b91c3a",
   "metadata": {},
   "outputs": [],
   "source": [
    "(define (solve lst)\n",
    "  (define (inner work)\n",
    "    (cond \n",
    "        [(null? work) #f]\n",
    "        [(member (* 2 (car work)) lst) #t]\n",
    "        [else (inner (cdr work))]))\n",
    "  (if (< 1 (length (filter (lambda (x) (= x 0)) lst))) #t\n",
    "    (inner (filter (lambda (x) (not (= x 0))) lst))))\n",
    "\n",
    "(require rackunit)\n",
    "(check-equal? (solve (list 10 2 5 3)) #t)\n",
    "(check-equal? (solve (list 7 17 14 11)) #t)"
   ]
  },
  {
   "cell_type": "markdown",
   "id": "04184a4b",
   "metadata": {},
   "source": [
    "シンプルな問題でひっかかりやすいのは次のような部分:\n",
    "\n",
    "* ある解法を思いついたとき、その解法の反例は存在するか\n",
    "  * 例えば今回の場合は`(* 2 0) -> 0`で自身にマッチすることに気が付かなかったので、そこで`Wrong answer`になってしまった\n",
    "* 単純な条件式\n",
    "  * いわゆる`<`が逆になっているとか。この辺りは気をつけてなんとかなるもんではないので、テストケースでチェックするのがいいとは思う。 "
   ]
  },
  {
   "cell_type": "code",
   "execution_count": null,
   "id": "ffb6197b",
   "metadata": {},
   "outputs": [],
   "source": []
  }
 ],
 "metadata": {
  "kernelspec": {
   "display_name": "Racket",
   "language": "racket",
   "name": "racket"
  },
  "language_info": {
   "codemirror_mode": "scheme",
   "file_extension": ".rkt",
   "mimetype": "text/x-racket",
   "name": "Racket",
   "pygments_lexer": "racket",
   "version": "8.0"
  }
 },
 "nbformat": 4,
 "nbformat_minor": 5
}
