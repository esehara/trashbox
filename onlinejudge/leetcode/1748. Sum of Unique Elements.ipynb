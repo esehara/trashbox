{
 "cells": [
  {
   "cell_type": "markdown",
   "id": "121a149b",
   "metadata": {},
   "source": [
    "* 先頭の値 -> 前回の値と違う\n",
    "  * 先頭の値が使われている？ -> 0\n",
    "  * 先頭の値が使われていない？ -> 値をresultに足す\n",
    "* 同じ -> 前回の値に使われているセットをして先頭の値を飛ばす\n",
    "\n",
    "冗長というか他の言語からすると「何言ってるの？」って感じになるけど、それぞれの関数を定義したほうが再帰関数の見通しがよくなりそう。"
   ]
  },
  {
   "cell_type": "code",
   "execution_count": 7,
   "id": "9b2ae18a",
   "metadata": {},
   "outputs": [],
   "source": [
    "(struct previous (use? value))\n",
    "\n",
    "(define (used? prev)\n",
    "  (if (previous-use? prev) 0\n",
    "      (previous-value prev)))\n",
    "\n",
    "(define (use prev) (previous #t (previous-value prev)))\n",
    "\n",
    "(define (uniq-sum lst)\n",
    "  (let ([lst (sort lst <)])\n",
    "  (define (inner prev lst result)\n",
    "    (cond [(null? lst) (+ result (used? prev))]\n",
    "          [(= (previous-value prev) (car lst))\n",
    "           (inner (use prev) (cdr lst) result)]\n",
    "          [else\n",
    "           (inner (previous #f (car lst)) (cdr lst) (+ result (used? prev)))]))\n",
    "  (inner (previous #f (car lst)) (cdr lst) 0)))\n",
    "\n",
    "(require rackunit)\n",
    "(check-equal? (uniq-sum (list 1 2 3 2)) 4)\n",
    "(check-equal? (uniq-sum (list 1 1 1 1)) 0)\n",
    "(check-equal? (uniq-sum (list 1 2 3 4 5)) 15)"
   ]
  },
  {
   "cell_type": "markdown",
   "id": "4ef4a2e0",
   "metadata": {},
   "source": [
    "再帰関数を定義した場合、最終的に同じ処理を計算することが多いので、更新する関数を定義したほうがよさそう。（処理の意図がわかりやすくなるなら細かく関数を作るほうがよい気がする）"
   ]
  }
 ],
 "metadata": {
  "kernelspec": {
   "display_name": "Racket",
   "language": "racket",
   "name": "racket"
  },
  "language_info": {
   "codemirror_mode": "scheme",
   "file_extension": ".rkt",
   "mimetype": "text/x-racket",
   "name": "Racket",
   "pygments_lexer": "racket",
   "version": "8.0"
  }
 },
 "nbformat": 4,
 "nbformat_minor": 5
}
