{
 "cells": [
  {
   "cell_type": "markdown",
   "id": "596ebb10",
   "metadata": {},
   "source": [
    "本家を見るに二つの解決があるが、ソートを考えたほうがバグも少ないものが書けるのでそういう風にする。\n",
    "\n",
    "たぶんこれは二つの配列をマージするような関数を定義したほうがよいと思うので、それを定義する。\n",
    "\n",
    "ソートされているので `(car lst) <= (car lst2)`は確実に保証されているとみなしてもいい。ではこの条件で、マージできない場合というのは`(second lst1) < (car lst2)`のとき。このときは`#f`を返し、マージ可能なら`(list (car lst) (max (second lst) (second lst2))`としてやるとよい。\n",
    "\n",
    "（型が違うのはどうなのとも思うけど、OCamlじゃないから硬いことは考えない)"
   ]
  },
  {
   "cell_type": "code",
   "execution_count": 1,
   "id": "30293f9a",
   "metadata": {},
   "outputs": [],
   "source": [
    "(define (merge-two-list lst lst2)\n",
    "  (if (< (cadr lst) (car lst2)) #f\n",
    "      (list (car lst) (max (cadr lst) (cadr lst2)))))\n",
    "\n",
    "(require rackunit)\n",
    "(check-equal? (merge-two-list (list 1 4) (list 4 5)) (list 1 5))\n",
    "(check-equal? (merge-two-list (list 1 4) (list 5 6)) #f)"
   ]
  },
  {
   "cell_type": "markdown",
   "id": "bfdd5ab0",
   "metadata": {},
   "source": [
    "あとは再帰的にソートしたリストを巡っていく。ポイントとしては:\n",
    "\n",
    "* **再帰関数の終了条件** は length(lst)が1か0のとき\n",
    "  * 0のときはそのままresultを返す\n",
    "  * 1のときはresultに残りを追加して返す\n",
    "* **終了条件ではないとき** リストから二つ取ってきてマージできるかどうかを調べる\n",
    "  * #fならそれをresultに追加して次のリストに向かう\n",
    "  * リストが帰ってきたら、lstの先頭に追加する"
   ]
  },
  {
   "cell_type": "code",
   "execution_count": 2,
   "id": "5849fee6",
   "metadata": {},
   "outputs": [],
   "source": [
    "(define (merge-two-list lst lst2)\n",
    "  (if (< (cadr lst) (car lst2)) #f\n",
    "      (list (car lst) (max (cadr lst) (cadr lst2)))))\n",
    "\n",
    "(define (merge-list lst)\n",
    "  (define (inner lst result)\n",
    "      (cond [(= 0 (length lst)) (reverse result)]\n",
    "            [(= 1 (length lst)) (reverse (append lst result))]\n",
    "            [else\n",
    "             (let ([try-merge (merge-two-list (car lst) (cadr lst))])\n",
    "               (if try-merge (inner (append (list try-merge) (cddr lst)) result)\n",
    "                   (inner (cdr lst) (append (list (car lst)) result))))]))\n",
    "  (inner lst (list)))\n",
    "\n",
    "(check-equal? (merge-list (list (list 1 3) (list 2 6) (list 8 10) (list 15 18))) (list (list 1 6) (list 8 10) (list 15 18)))\n",
    "(check-equal? (merge-list (list (list 1 4) (list 4 5))) (list (list 1 5)))\n"
   ]
  },
  {
   "cell_type": "code",
   "execution_count": null,
   "id": "1419aefa",
   "metadata": {},
   "outputs": [],
   "source": []
  }
 ],
 "metadata": {
  "kernelspec": {
   "display_name": "Racket",
   "language": "racket",
   "name": "racket"
  },
  "language_info": {
   "codemirror_mode": "scheme",
   "file_extension": ".rkt",
   "mimetype": "text/x-racket",
   "name": "Racket",
   "pygments_lexer": "racket",
   "version": "8.0"
  }
 },
 "nbformat": 4,
 "nbformat_minor": 5
}
