{
 "cells": [
  {
   "cell_type": "markdown",
   "id": "ae719228",
   "metadata": {},
   "source": [
    "* 桁の数自体は (modulo x 基数k)で計算できる\n",
    "* 桁を繰り上がりするためには基数kで割っていく\n",
    "* xがn以下になったらその桁で終わり => **終了条件**"
   ]
  },
  {
   "cell_type": "code",
   "execution_count": 2,
   "id": "0092d021",
   "metadata": {},
   "outputs": [],
   "source": [
    "(define (number->base-k n k)\n",
    "  (define (inner n result)\n",
    "  (if (< n k) (+ result n)\n",
    "      (inner (floor (/ n k)) (+ result (modulo n k)))))\n",
    "  (inner n 0))\n",
    "\n",
    "(require rackunit)\n",
    "(check-equal? (number->base-k 34 6) 9)"
   ]
  },
  {
   "cell_type": "code",
   "execution_count": null,
   "id": "d5ffb274",
   "metadata": {},
   "outputs": [],
   "source": []
  }
 ],
 "metadata": {
  "kernelspec": {
   "display_name": "Racket",
   "language": "racket",
   "name": "racket"
  },
  "language_info": {
   "codemirror_mode": "scheme",
   "file_extension": ".rkt",
   "mimetype": "text/x-racket",
   "name": "Racket",
   "pygments_lexer": "racket",
   "version": "8.0"
  }
 },
 "nbformat": 4,
 "nbformat_minor": 5
}
