{
 "cells": [
  {
   "cell_type": "markdown",
   "id": "e8281947",
   "metadata": {},
   "source": [
    "アナグラム判定は、基本として文字列をソートしてやればよい。"
   ]
  },
  {
   "cell_type": "code",
   "execution_count": 2,
   "id": "14030d08",
   "metadata": {},
   "outputs": [
    {
     "data": {
      "text/html": [
       "<code>#t</code>"
      ],
      "text/plain": [
       "#t"
      ]
     },
     "execution_count": 2,
     "metadata": {},
     "output_type": "execute_result"
    }
   ],
   "source": [
    "(equal? (sort (string->list \"hoge\") char>?) \n",
    "        (sort (string->list \"gohe\") char>?))"
   ]
  },
  {
   "cell_type": "markdown",
   "id": "2e9d5927",
   "metadata": {},
   "source": [
    "今回はアナグラム同士で固めるというのがポイントなのでどうするのか……と考えたとき、まあ「ハッシュ配列」に入れていくのが一番いいよねということになる。やることはそれだけ。"
   ]
  },
  {
   "cell_type": "code",
   "execution_count": 20,
   "id": "859f8804",
   "metadata": {},
   "outputs": [
    {
     "data": {
      "text/html": [
       "<code>'((\"bat\") (\"tan\" \"nat\") (\"eat\" \"tea\" \"ate\"))</code>"
      ],
      "text/plain": [
       "'((\"bat\") (\"tan\" \"nat\") (\"eat\" \"tea\" \"ate\"))"
      ]
     },
     "execution_count": 20,
     "metadata": {},
     "output_type": "execute_result"
    }
   ],
   "source": [
    "(define (string->key str) (sort (string->list str) char>?))\n",
    "\n",
    "(define (group-anagrams lst)\n",
    "  (let ([grouped-hash (make-hash)])\n",
    "  (for ([str lst]) \n",
    "    (let ([key (string->key str)])\n",
    "    (with-handlers ([exn:fail? (lambda (e) (hash-set! grouped-hash key (list str)))])\n",
    "    (hash-set! grouped-hash key (append (hash-ref grouped-hash key) (list str))))))\n",
    "    (map cdr (hash->list grouped-hash))))"
   ]
  },
  {
   "cell_type": "code",
   "execution_count": null,
   "id": "db21ee5c",
   "metadata": {},
   "outputs": [],
   "source": []
  }
 ],
 "metadata": {
  "kernelspec": {
   "display_name": "Racket",
   "language": "racket",
   "name": "racket"
  },
  "language_info": {
   "codemirror_mode": "scheme",
   "file_extension": ".rkt",
   "mimetype": "text/x-racket",
   "name": "Racket",
   "pygments_lexer": "racket",
   "version": "8.0"
  }
 },
 "nbformat": 4,
 "nbformat_minor": 5
}
