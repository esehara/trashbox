{
 "cells": [
  {
   "cell_type": "markdown",
   "id": "2cf59355",
   "metadata": {},
   "source": [
    "この手の問題はたぶん最初に与えられた配列を「等差数列」であると仮定して先にソートしてしまう。で、本当に等差になっているかどうかを確かめれば良い（背理法っぽい感じ）。\n",
    "\n",
    "で「等差数列」であるということは、最初の二つの数列の差(index 0, index 1)がindexの2以降でも続くかどうかを確かめ、違うならば`#f`、同じなら続けて最後までいけば`#t`とすればよい。\n",
    "\n",
    "では与えられた配列の長さが2だったらどうするか？と考えると（制約により、このような配列が与えられることが予測される）、「等差数列」の定義上、長さが2ならば常に正しい。\n"
   ]
  },
  {
   "cell_type": "code",
   "execution_count": 1,
   "id": "33ffa1bb",
   "metadata": {},
   "outputs": [],
   "source": [
    "(define (arthimetic? lst)\n",
    "  (if (= 2 (length lst)) #t\n",
    "      (let* ([lst (sort lst >)]\n",
    "             [diff (- (car lst) (cadr lst))])\n",
    "        (define (inner expect lst)\n",
    "           (cond \n",
    "            [(null? lst) #t]\n",
    "            [(= expect (car lst)) (inner (- expect diff) (cdr lst))]\n",
    "            [else #f]))\n",
    "        (inner (- (cadr lst) diff) (cddr lst)))))\n",
    "\n",
    "(require rackunit)\n",
    "(check-equal? (arthimetic? (list 3 5 1)) #t)\n",
    "(check-equal? (arthimetic? (list 1 2 4)) #f)"
   ]
  },
  {
   "cell_type": "code",
   "execution_count": null,
   "id": "bb7edf52",
   "metadata": {},
   "outputs": [],
   "source": []
  }
 ],
 "metadata": {
  "kernelspec": {
   "display_name": "Racket",
   "language": "racket",
   "name": "racket"
  },
  "language_info": {
   "codemirror_mode": "scheme",
   "file_extension": ".rkt",
   "mimetype": "text/x-racket",
   "name": "Racket",
   "pygments_lexer": "racket",
   "version": "8.0"
  }
 },
 "nbformat": 4,
 "nbformat_minor": 5
}
