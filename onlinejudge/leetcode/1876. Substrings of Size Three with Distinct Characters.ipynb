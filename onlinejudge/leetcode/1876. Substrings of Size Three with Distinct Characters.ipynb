{
 "cells": [
  {
   "cell_type": "markdown",
   "id": "d0af7052",
   "metadata": {},
   "source": [
    "条件を見れば、単に三つずつ取っていけばいい。なので **終了条件** は二つの長さ以下になったらということになる。**目的** はユニークになる三つの連なった部分文字列をカウントしたいということだ。\n",
    "\n",
    "なので、先頭三文字がユニークなリスト（文字列を文字リストに変換するため）をチェックする関数を作り、そこに渡してチェックすればいいということになる。"
   ]
  },
  {
   "cell_type": "code",
   "execution_count": 3,
   "id": "5e82892e",
   "metadata": {},
   "outputs": [],
   "source": [
    "(define (check-uniq? lst)\n",
    "  (and \n",
    "   (not (char=? (car lst) (cadr lst)))\n",
    "   (not (char=? (car lst) (caddr lst)))\n",
    "   (not (char=? (cadr lst) (caddr lst)))))\n",
    "\n",
    "(define (solve s)\n",
    "  (define (inner lst result)\n",
    "    (cond [(< (length lst) 3) result]\n",
    "          [(check-uniq? lst) (inner (cdr lst) (add1 result))]\n",
    "          [else (inner (cdr lst) result)]))\n",
    "  (inner (string->list s) 0))\n",
    "\n",
    "(require rackunit)\n",
    "(check-equal? (solve \"xyzzaz\") 1)\n",
    "(check-equal? (solve \"aababcabc\") 4)"
   ]
  },
  {
   "cell_type": "code",
   "execution_count": null,
   "id": "e537339a",
   "metadata": {},
   "outputs": [],
   "source": []
  }
 ],
 "metadata": {
  "kernelspec": {
   "display_name": "Racket",
   "language": "racket",
   "name": "racket"
  },
  "language_info": {
   "codemirror_mode": "scheme",
   "file_extension": ".rkt",
   "mimetype": "text/x-racket",
   "name": "Racket",
   "pygments_lexer": "racket",
   "version": "8.0"
  }
 },
 "nbformat": 4,
 "nbformat_minor": 5
}
