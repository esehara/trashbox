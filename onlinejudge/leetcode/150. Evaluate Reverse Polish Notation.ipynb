{
 "cells": [
  {
   "cell_type": "markdown",
   "id": "3402765d",
   "metadata": {},
   "source": [
    "逆ポーランド記法を計算する問題。良く解説にあるように、単純にスタックしていって、オペレーターが来たらスタックを取り出すだけで良い。必ず`valid`な式が来るようなので、例外処理は考えなくて良い。\n",
    "* **終了条件** : トークンがなくなった -> 先頭の数字を返す\n",
    "* `string` が `int` にパースできる\n",
    "  * スタックの先頭に積む\n",
    "* `string` が `int` にパースできない\n",
    "  * スタックを先頭と二番目から取り出し、オペレーターの処理に合わせてスタックに積み直す"
   ]
  },
  {
   "cell_type": "code",
   "execution_count": 12,
   "id": "d4d7cd60",
   "metadata": {},
   "outputs": [],
   "source": [
    "(define (calc op num1 num2)\n",
    "  (cond [(string=? \"+\" op) (+ num1 num2)]\n",
    "        [(string=? \"-\" op) (- num1 num2)]\n",
    "        [(string=? \"/\" op) (truncate (/ num1 num2))]\n",
    "        [(string=? \"*\" op) (* num1 num2)]))\n",
    "\n",
    "(define (polish-calc tokens)\n",
    "  (define (inner stack tokens)\n",
    "    (if (null? tokens) (car stack)\n",
    "        (let ([try-int (string->number (car tokens))])\n",
    "          (if try-int (inner (cons try-int stack) (cdr tokens))\n",
    "              (inner \n",
    "               (cons (calc (car tokens) (cadr stack) (car stack)) (cddr stack))\n",
    "               (cdr tokens))))))\n",
    "  (inner (list (string->number (car tokens))) (cdr tokens)))\n",
    "\n",
    "(require rackunit)\n",
    "(check-equal? (polish-calc (list \"2\" \"1\" \"+\" \"3\" \"*\")) 9)\n",
    "(check-equal? (polish-calc (list \"4\" \"13\" \"5\" \"/\" \"+\")) 6)\n",
    "(check-equal? (polish-calc (list \"10\" \"6\" \"9\" \"3\" \"+\" \"-11\" \"*\" \"/\" \"*\" \"17\" \"+\" \"5\" \"+\")\n",
    ") 22)"
   ]
  },
  {
   "cell_type": "markdown",
   "id": "4bfe9035",
   "metadata": {},
   "source": [
    "実装自体は悩まなかったけど、`floor` `round` `truncate`の挙動で困ってしまって良くなかった。"
   ]
  },
  {
   "cell_type": "code",
   "execution_count": null,
   "id": "347e26cb",
   "metadata": {},
   "outputs": [],
   "source": []
  }
 ],
 "metadata": {
  "kernelspec": {
   "display_name": "Racket",
   "language": "racket",
   "name": "racket"
  },
  "language_info": {
   "codemirror_mode": "scheme",
   "file_extension": ".rkt",
   "mimetype": "text/x-racket",
   "name": "Racket",
   "pygments_lexer": "racket",
   "version": "8.0"
  }
 },
 "nbformat": 4,
 "nbformat_minor": 5
}
