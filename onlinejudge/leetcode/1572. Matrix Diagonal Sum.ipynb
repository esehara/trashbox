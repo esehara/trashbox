{
 "cells": [
  {
   "cell_type": "markdown",
   "id": "82bc0bfc",
   "metadata": {},
   "source": [
    "2Dリスト配列の対角線を計算するといったもの。\n",
    "\n",
    "効率を考えずに簡単に実装するとするならば次のようにするとよい。\n",
    "\n",
    "* **(list a1 a2 a3)の対角線を取ることを考える:** 合わせるべき整数のペアは、(list a1 a2 a3)のnthと(reverse (list a1 a2 a3))のnthのペアで取るといい。\n",
    "\n",
    "従ってこのような関数を作る。"
   ]
  },
  {
   "cell_type": "code",
   "execution_count": 1,
   "id": "eb903397",
   "metadata": {},
   "outputs": [],
   "source": [
    "(define (get-line-pair lst nth)\n",
    "  (+ (list-ref lst nth) (list-ref (reverse lst) nth)))\n",
    "\n",
    "(require rackunit)\n",
    "(check-equal? (get-line-pair (list 1 5 3) 0) 4)\n",
    "(check-equal? (get-line-pair (list 1 5 3) 2) 4)\n",
    "\n",
    ";; 注意すべきポイント -> 奇数のときは真ん中の整数が二回計算される\n",
    "(check-equal? (get-line-pair (list 1 5 3) 1) 10)"
   ]
  },
  {
   "cell_type": "markdown",
   "id": "27b0aeb3",
   "metadata": {},
   "source": [
    "このような関数を、対角線のマトリックスをnthとして捉えて順番に下まで見てやればいいということになるのだが、注意するべきところはnが奇数だった場合。\n",
    "\n",
    "nが奇数のときは真ん中の整数を二回計算していることになるので、後処理として奇数のときは真ん中のnthを引いてやる必要がある。"
   ]
  },
  {
   "cell_type": "code",
   "execution_count": 2,
   "id": "0e4330f3",
   "metadata": {},
   "outputs": [],
   "source": [
    "(define (get-line-pair lst nth)\n",
    "  (+ (list-ref lst nth) (list-ref (reverse lst) nth)))\n",
    "\n",
    "(define (solve lst)\n",
    "  (let ([n (length lst)])\n",
    "  (- (for/fold ([result 0])\n",
    "            ([i (in-range 0 n)]\n",
    "             [line lst])\n",
    "            (+ result (get-line-pair line i)))\n",
    "     (if (= 1 (modulo n 2))\n",
    "         (list-ref (list-ref lst (floor (/ n 2))) (floor (/ n 2)))\n",
    "         0))))\n",
    "\n",
    "(require rackunit)\n",
    "(check-equal? (solve (list (list 1 2 3) (list 4 5 6) (list 7 8 9)))\n",
    "              25)"
   ]
  },
  {
   "cell_type": "markdown",
   "id": "441b1549",
   "metadata": {},
   "source": [
    "この手の問題は、ヘンにリストを加工せずにそのままにするよりも、例えば「リストを逆にしたら同じ値でアクセスできないか？」みたいに考えたほうが、恐らくバグも少なくなる（ただしその分だけオーダー数はかかる）。"
   ]
  }
 ],
 "metadata": {
  "kernelspec": {
   "display_name": "Racket",
   "language": "racket",
   "name": "racket"
  },
  "language_info": {
   "codemirror_mode": "scheme",
   "file_extension": ".rkt",
   "mimetype": "text/x-racket",
   "name": "Racket",
   "pygments_lexer": "racket",
   "version": "8.0"
  }
 },
 "nbformat": 4,
 "nbformat_minor": 5
}
