{
 "cells": [
  {
   "cell_type": "markdown",
   "id": "f4a84ac5",
   "metadata": {},
   "source": [
    "[問題文はこちら](https://leetcode.com/problems/generate-parentheses/)。"
   ]
  },
  {
   "cell_type": "markdown",
   "id": "43e74516",
   "metadata": {},
   "source": [
    "# 問題文とサンプルからわかること\n",
    "\n",
    "* カッコが対応しているということは、開きカッコの数だけ閉じカッコが現れるということ\n",
    "* 何のカッコも開かれていないときは必ず開かなくてはならない\n",
    "  * 必ずスタートは`(`から始まるということ。\n",
    "  * また全ての開きカッコが閉じられている場合は必ず開かなければならない。\n",
    "* カッコが開かれているときは開くか閉じるかを選ぶことができる\n",
    "  * なので両方に対してオーダーをする必要がある\n",
    "  * だたし開きカッコと閉じカッコがnと同数のときは全て閉じなくてはならない\n",
    "  \n",
    "# 関数の仕様定義\n",
    "\n",
    "* **(終了条件)** 閉じられていない開きカッコ + 閉じたカッコ = n\n",
    "  * このとき閉じられていない開きカッコの分だけ閉じる\n",
    "* **分岐** 閉じられていない開きカッコが一つもないとき -> カッコを開く\n",
    "* **分岐** 閉じられていない開きカッコが一つ以上あるとき -> カッコを開くか閉じるかする"
   ]
  },
  {
   "cell_type": "code",
   "execution_count": 23,
   "id": "06699d69",
   "metadata": {},
   "outputs": [
    {
     "data": {
      "text/html": [
       "<code>'(\"((()))\" \"(()())\" \"(())()\" \"()(())\" \"()()()\")</code>"
      ],
      "text/plain": [
       "'(\"((()))\" \"(()())\" \"(())()\" \"()(())\" \"()()()\")"
      ]
     },
     "execution_count": 23,
     "metadata": {},
     "output_type": "execute_result"
    }
   ],
   "source": [
    "(require racket/list)\n",
    "\n",
    "(define (parentheses n)\n",
    "  (define (inner open-parent close-parent result)\n",
    "    (cond [(= n (+ open-parent close-parent)) (string-append result (make-string open-parent #\\)))]\n",
    "          [(= 0 open-parent) (inner (add1 open-parent) close-parent (string-append result \"(\"))]\n",
    "          [else (list \n",
    "                 (inner (add1 open-parent) close-parent (string-append result \"(\"))\n",
    "                 (inner (sub1 open-parent) (add1 close-parent) (string-append result \")\")))]))\n",
    "  (flatten (inner 0 0 \"\")))\n",
    "\n",
    "(parentheses 3)"
   ]
  },
  {
   "cell_type": "markdown",
   "id": "26f1b416",
   "metadata": {},
   "source": [
    "# 反省\n",
    "\n",
    "色々と複雑に考えたが、この手の組み合わせは「近視眼的に組み合わせる（現在の状況から可能な方法を考え、先のことは考えない）」方法が一番書きやすい。ただし終了条件はちゃんと考えること。"
   ]
  }
 ],
 "metadata": {
  "kernelspec": {
   "display_name": "Racket",
   "language": "racket",
   "name": "racket"
  },
  "language_info": {
   "codemirror_mode": "scheme",
   "file_extension": ".rkt",
   "mimetype": "text/x-racket",
   "name": "Racket",
   "pygments_lexer": "racket",
   "version": "8.0"
  }
 },
 "nbformat": 4,
 "nbformat_minor": 5
}
