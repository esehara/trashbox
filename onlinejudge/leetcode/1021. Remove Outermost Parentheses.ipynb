{
 "cells": [
  {
   "cell_type": "markdown",
   "id": "8900412c",
   "metadata": {},
   "source": [
    "カッコ問題は不完全か完全かで別れていて、今回は完全。\n",
    "\n",
    "* \"(\" のとき -> \n",
    "  * もしcounterが1以上なら -> resultのstringに追加する\n",
    "  * counterを1あげる\n",
    "* \")\" のとき->\n",
    "  * もしcounterが2以上なら -> resultのstringに追加する\n",
    "  * coutnerを1下げる\n",
    "  \n"
   ]
  },
  {
   "cell_type": "code",
   "execution_count": 1,
   "id": "eff2e3ef",
   "metadata": {},
   "outputs": [],
   "source": [
    "(define (remove-out str)\n",
    "  (define (inner lst counter result)\n",
    "    (cond [(null? lst) result]\n",
    "          [(string=? (string (car lst)) \"(\")\n",
    "           (inner (cdr lst) (add1 counter)\n",
    "                  (if (> counter 0) (string-append result \"(\") result))]\n",
    "          [(string=? (string (car lst)) \")\")\n",
    "           (inner (cdr lst) (sub1 counter)\n",
    "                  (if (> counter 1) (string-append result \")\" ) result))]))\n",
    "  (inner (string->list str) 0 \"\"))\n",
    "\n",
    "(require rackunit)\n",
    "(check-equal? (remove-out \"(())\") \"()\")\n",
    "(check-equal? (remove-out \"()()\") \"\")\n",
    "(check-equal? (remove-out \"(()())\") \"()()\")"
   ]
  },
  {
   "cell_type": "code",
   "execution_count": null,
   "id": "c82349d0",
   "metadata": {},
   "outputs": [],
   "source": []
  }
 ],
 "metadata": {
  "kernelspec": {
   "display_name": "Racket",
   "language": "racket",
   "name": "racket"
  },
  "language_info": {
   "codemirror_mode": "scheme",
   "file_extension": ".rkt",
   "mimetype": "text/x-racket",
   "name": "Racket",
   "pygments_lexer": "racket",
   "version": "8.0"
  }
 },
 "nbformat": 4,
 "nbformat_minor": 5
}
