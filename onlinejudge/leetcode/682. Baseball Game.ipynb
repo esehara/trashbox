{
 "cells": [
  {
   "cell_type": "markdown",
   "id": "31a427db",
   "metadata": {},
   "source": [
    "全ての記録したスコアの **合計** で過去の記録を参照する必要がある。とすると、単純に連結リストの先頭に追加して、そこの前回の記録などを見ていけばいいということになる。もし問題が記録の過程が欲しいときは`reverse`をかませばよい（今回はその必要がないので無視）。\n",
    "\n",
    "ポイントは「数字」か「文字列」かということなのだけど、一度数字でパースしてみて、だめだったら分岐に移行すればよい。"
   ]
  },
  {
   "cell_type": "code",
   "execution_count": 1,
   "id": "dd25a742",
   "metadata": {},
   "outputs": [],
   "source": [
    "(define (solve lst)\n",
    "  (define (inner lst result)\n",
    "    (if (null? result) (apply + result)\n",
    "        (let ([try-number (string->number (car lst))])\n",
    "          (if try-number (inner (cdr lst) (cons try-number result))\n",
    "              (cond [(string=? \"C\" (car lst)) \n",
    "                     (inner (cdr lst) \n",
    "                            (cdr result))]\n",
    "                    [(string=? \"+\" (car lst)) \n",
    "                     (inner (cdr lst)\n",
    "                            (cons (+ (car result) (cadr result))\n",
    "                            result))]\n",
    "                    [(string=? \"D\" (car lst))\n",
    "                     (inner (cdr lst)\n",
    "                            (cons (* 2 (car result))\n",
    "                                  result))])))))\n",
    "  (inner lst (list)))"
   ]
  },
  {
   "cell_type": "code",
   "execution_count": null,
   "id": "fc3c220c",
   "metadata": {},
   "outputs": [],
   "source": []
  }
 ],
 "metadata": {
  "kernelspec": {
   "display_name": "Racket",
   "language": "racket",
   "name": "racket"
  },
  "language_info": {
   "codemirror_mode": "scheme",
   "file_extension": ".rkt",
   "mimetype": "text/x-racket",
   "name": "Racket",
   "pygments_lexer": "racket",
   "version": "8.0"
  }
 },
 "nbformat": 4,
 "nbformat_minor": 5
}
