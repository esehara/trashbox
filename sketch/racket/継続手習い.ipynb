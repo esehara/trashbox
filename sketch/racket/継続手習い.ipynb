{
 "cells": [
  {
   "cell_type": "markdown",
   "id": "341ea262",
   "metadata": {},
   "source": [
    "継続は色々と説明されているが、しかしそれらの説明は「正しく」はあるものの、使いこなせるというものでもない。そのような「正確な」定義はともかくとして、(そのような示唆に富み、かつ有益なドキュメントは各位先輩Lisperが色々書いてくれている)。実際のところは使ってみて会得するのが一番いいので、その手習いの記録である。\n",
    "\n",
    "結局のところ、我々はパソコンのことを「知らない」が「使える」。たぶん、継続も一緒だ。私達は時間のことは全くわからないが、しかし「時計」は使えるのだ。Schemeも全くわからないが「書ける」のであって、そういうものはたくさん存在している。"
   ]
  },
  {
   "cell_type": "markdown",
   "id": "2b52dd05",
   "metadata": {},
   "source": [
    "# 一番簡単な例"
   ]
  },
  {
   "cell_type": "code",
   "execution_count": null,
   "id": "e53cd423",
   "metadata": {},
   "outputs": [],
   "source": [
    "(begin (displayln (call/cc \n",
    "          (lambda (cc)\n",
    "            (displayln \"ラムダの中に入ったよ！\")\n",
    "            (cc \"帰るよ！じゃあね！\")\n",
    "            (displayln \"あれ、みんなどこ？\"))))\n",
    "        (displayln \"ただいま！\"))\n"
   ]
  },
  {
   "cell_type": "markdown",
   "id": "fe75efdc",
   "metadata": {},
   "source": [
    "このような使い方は[大域脱出](https://ja.wikibooks.org/wiki/Scheme/%E7%B6%99%E7%B6%9A%E3%81%AE%E7%A8%AE%E9%A1%9E%E3%81%A8%E5%88%A9%E7%94%A8%E4%BE%8B)として説明されている。いわば **cc** を呼び出された瞬間に **call/cc** のところへ戻り、**cc** で受け取った値を引き渡しているということができる。もっとシンプルな大域脱出になると次のようになる。"
   ]
  },
  {
   "cell_type": "code",
   "execution_count": null,
   "id": "05963d04",
   "metadata": {},
   "outputs": [],
   "source": [
    "(require racket/function)\n",
    "\n",
    "(define (f return) (+ (return 3) 2))\n",
    "(displayln (f identity)) ;; (define (identity x) x)\n",
    "(displayln (call/cc f))"
   ]
  },
  {
   "cell_type": "markdown",
   "id": "07b67208",
   "metadata": {},
   "source": [
    "このように考えれば、`call/cc`とは、そのポイントに帰ってくるような関数を渡す関数という風に考えることができる。"
   ]
  },
  {
   "cell_type": "markdown",
   "id": "af023873",
   "metadata": {},
   "source": [
    "# ちょっとだけ簡単な例"
   ]
  },
  {
   "cell_type": "markdown",
   "id": "f79bf00a",
   "metadata": {},
   "source": [
    "「そのポイントに帰ってくるような関数を渡す関数」というわけだから、単純にループだって作ることもできるだろう。例えば、階乗を計算する`fact`は継続にすると次のように書ける。"
   ]
  },
  {
   "cell_type": "code",
   "execution_count": null,
   "id": "ee4926b6",
   "metadata": {},
   "outputs": [],
   "source": [
    "(require racket/function)\n",
    "\n",
    "(define (fact/cc x)\n",
    "  (define result 1)\n",
    "  (define i 1)\n",
    "  (let ([c (call/cc identity)])\n",
    "    (set! result (* i result))\n",
    "    (set! i (add1 i))\n",
    "    (if (>= i x) result (c c))))\n",
    "\n",
    "(fact/cc 10)"
   ]
  },
  {
   "cell_type": "markdown",
   "id": "bf93ea99",
   "metadata": {},
   "source": [
    "この手の線形的な例を考えるならば、実際は以下のような単純な再帰だっていい。"
   ]
  },
  {
   "cell_type": "code",
   "execution_count": null,
   "id": "51d7394a",
   "metadata": {},
   "outputs": [],
   "source": [
    "(define (fact/recur x)\n",
    "  (define (inner i result)\n",
    "    (if (>= i x) result\n",
    "        (inner (add1 i) (* result i))))\n",
    "  (inner 1 1))\n",
    "\n",
    "(fact/recur 10)"
   ]
  },
  {
   "cell_type": "markdown",
   "id": "90e70908",
   "metadata": {},
   "source": [
    "# ちょっとだけ複雑な例\n",
    "\n",
    "「あるリストの要素を幾つも使って、何かしらの数を作る」という問題について考えてみよう。このとき`(list 2 3)`を使って`8`を取り出したい場合には次のような組み合わせが考えられる。\n",
    "\n",
    "* (list 3 2) -> (3 3 2), (2 2 2 2)\n"
   ]
  },
  {
   "cell_type": "code",
   "execution_count": 21,
   "id": "33f1ac9a",
   "metadata": {},
   "outputs": [
    {
     "data": {
      "text/html": [
       "<code>'((3 7) (3 7) (5 5) (5 5) (5 5) (2 3 5) (2 2 3 3) (2 2 2 2 2))</code>"
      ],
      "text/plain": [
       "'(#0=(3 7) #0# #1=(5 . #2=(5)) #1# #1# (2 3 . #2#) (2 2 3 3) (2 2 2 2 2))"
      ]
     },
     "execution_count": 21,
     "metadata": {},
     "output_type": "execute_result"
    }
   ],
   "source": [
    "(define (find-list-sum find-sum lst)\n",
    "  (struct cc (proc use-elems))\n",
    "  (let ([result (list)] [task (list)])\n",
    "    ;-Task取り出し部分-------------------------------\n",
    "    (define (task-next!)\n",
    "      (let ([next (car task)])\n",
    "           (set! task (cdr task))\n",
    "           ((cc-proc next) (cc (cc-proc next) (cc-use-elems next)))))\n",
    "    ;-再帰関数---------------------------------------\n",
    "    (define (inner work use-elems)\n",
    "      (let* ([c (call/cc (lambda (proc) (cc proc use-elems)))]\n",
    "             [use-elems (cc-use-elems c)])\n",
    "      (cond\n",
    "       [(and (null? work) (null? use-elems)) result]\n",
    "       [(null? use-elems) (task-next!)]\n",
    "       [else \n",
    "         ;;- Taskの追加--\n",
    "         (set! task (append (list (cc (cc-proc c) (cdr use-elems))) task))\n",
    "         (cond\n",
    "           [(and (not (null? use-elems)) (< (apply + work) find-sum)) (inner (cons (car use-elems) work) use-elems)]\n",
    "           [(= (apply + work) find-sum) (set! result (append result (list work))) (task-next!)]\n",
    "           [else (task-next!)])])))\n",
    "    ;-終わり---------------------\n",
    "    (inner (list) (sort lst >))))\n",
    "\n",
    "(check-equal? (find-list-sum 1 (list)) (list))\n",
    "(check-equal? (find-list-sum 10 (list 7 9 12)) (list))\n",
    "(check-equal? (find-list-sum 8 (list 3 2)) (list (list 2 3 3) (list 2 2 2 2)))\n",
    "(find-list-sum 10 (list 2 3 5 7))"
   ]
  },
  {
   "cell_type": "markdown",
   "id": "dd771c54",
   "metadata": {},
   "source": [
    "再帰関数と比較した場合、「再帰関数」においては「値が更新されうるような変数」と「値が不変であるような変数」に分け、「値が更新されうるような変数」に関しては局所関数の引数で持つと、基本的には見通しが良くなる（ように個人的には思う）。「継続」の場合、もう少し状況が複雑である。\n",
    "\n",
    "* 値が更新されうる変数\n",
    "  * その値に戻ってくるような変数\n",
    "  * 他の値に入れ替えるべき変数\n",
    "* 値が更新されない変数\n",
    "\n",
    "変更がかかるような変数であっても「セーブポイントとしてそこに戻るような値」と「別の値に入れ替える値」というのが二つ存在している。\n",
    "\n",
    "今回の場合であるならば、「セーブポイントとして戻る値」というのは、「候補として選された値のリスト（上記でいうならば`work`の部分）」であり、そして別の値に入れ替える値というのは「値として選択された部分(`use-elems`)」である。かっこよく言ってしまえば **「ありえたもう一つの未来」** を保存しておくわけだ。"
   ]
  },
  {
   "cell_type": "markdown",
   "id": "b14ae3e7",
   "metadata": {},
   "source": [
    "# もう一つちょっとだけ複雑な例\n",
    "\n",
    "ユニークな要素で出来ているリストが与えられる。その要素の中から好きな数を選んで部分集合を作ったとき、いったい幾つの部分集合が出来るか？"
   ]
  },
  {
   "cell_type": "code",
   "execution_count": 32,
   "id": "5b674c46",
   "metadata": {},
   "outputs": [],
   "source": [
    "(define (subsets lst)\n",
    "  (let ([result (list)] [task (list)])\n",
    "    \n",
    "    (struct cc (proc rest))\n",
    "    \n",
    "    (define (task-next!)\n",
    "      (let ([work (car task)])\n",
    "        (set! task (cdr task))\n",
    "        ((cc-proc work) (cc (cc-proc work) (cc-rest work)))))\n",
    "\n",
    "    (define (inner work lst)\n",
    "      (let* ([c (call/cc (lambda (c) (cc c lst)))]\n",
    "             [rest (cc-rest c)])\n",
    "        (cond\n",
    "          [(and (null? work) (null? rest)) result]\n",
    "          [(null? rest) (set! result (append result (list work))) (task-next!)]\n",
    "          [else (set! task (append task (list (cc (cc-proc c) (cdr rest)))))\n",
    "                (inner (append work (list (car rest))) (cdr rest))])))\n",
    "    (inner (list) lst)))\n",
    "      \n",
    ";;--rackunit--\n",
    "(require rackunit)\n",
    "(check-equal? (subsets (list 1 2)) (list (list 1 2) (list 2) (list 1)))\n",
    "(check-equal? (subsets (list 1 2 3))\n",
    "                       (list (list 1 2 3)\n",
    "                            (list 2 3) (list 1 3) (list 1 2)\n",
    "                             (list 3) (list 2) (list 1)))"
   ]
  },
  {
   "cell_type": "markdown",
   "id": "f14c5428",
   "metadata": {},
   "source": [
    "率直に言うと、継続の難しさというのはその概念が難易度が高いと言うよりも **「状態を保存して何が嬉しいの？」** というところに尽きるのではないかと思う。\n",
    "\n",
    "全てのありうるべき **状態**を渡すときはいわゆる「再帰関数」になるのだけれど、全ての**状態**を保存するのは非常にコストがかかるというときには、継続でパックして、**値を変えたいところ** だけを渡してあげればよい。"
   ]
  },
  {
   "cell_type": "code",
   "execution_count": null,
   "id": "20eb257c",
   "metadata": {},
   "outputs": [],
   "source": []
  }
 ],
 "metadata": {
  "kernelspec": {
   "display_name": "Racket",
   "language": "racket",
   "name": "racket"
  },
  "language_info": {
   "codemirror_mode": "scheme",
   "file_extension": ".rkt",
   "mimetype": "text/x-racket",
   "name": "Racket",
   "pygments_lexer": "racket",
   "version": "8.0"
  }
 },
 "nbformat": 4,
 "nbformat_minor": 5
}
